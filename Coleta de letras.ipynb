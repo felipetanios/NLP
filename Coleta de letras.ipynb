{
 "cells": [
  {
   "cell_type": "markdown",
   "metadata": {},
   "source": [
    "# Fetching dataset lyrics "
   ]
  },
  {
   "cell_type": "markdown",
   "metadata": {},
   "source": [
    "##     Fist we have to get all the bossa nova track's names in our dataset and then, we have to take out the \".wav\" part of the name"
   ]
  },
  {
   "cell_type": "code",
   "execution_count": 1,
   "metadata": {
    "collapsed": true
   },
   "outputs": [],
   "source": [
    "import csv\n",
    "import urllib\n",
    "from bs4 import BeautifulSoup\n",
    "import codecs\n",
    "from tqdm import tqdm_notebook, tnrange"
   ]
  },
  {
   "cell_type": "code",
   "execution_count": 2,
   "metadata": {},
   "outputs": [
    {
     "name": "stdout",
     "output_type": "stream",
     "text": [
      "['A_Felicidade', 'Calice', 'Elis_Regina_-_Como_Nossos_Pais', 'Elis_Regina_-_Joao_e_Maria', 'Elis_Regina_-_Maria_Maria', 'Elis_Regina_-_Carinhoso_(Meu_Coracao)', 'Milton_Nascimento_-_Travessia', 'Elis_Regina_-_Tristeza', 'eu_nao_existo_sem_voce_-_Maria_Bethania', 'Toquinho_-_Meditacao', 'Soneto_de_Separacao_-_Elis_e_Tom', 'Tom_Jobim_-_Luiza', 'Onde_anda_voce_Toquinho_Vinicius_de_moraes', 'Samba_Em_Preludio_-_Vinicius_de_Moraes_,Maria_Creuza_y_Toquinho', 'Gal_Costa_-_Anos_Dourados', 'Gal_Costa_-_Se_Todos_Fossem_Iguais_A_Voce', 'Chico_Buarque_de_Hollanda_-_Geni_e_o_Zepelim_(1979)', 'Elis_Regina_-_O_Bebado_e_a_Equilibrista', 'Wave', 'Samba_de_Uma_Nota_So', 'aguas_de_Marco', 'Elis_Regina_-_Madalena', 'Garota_de_Ipanema', 'Samba_do_Aviao', 'Gilberto_Gil_-_Rosa_Morena', 'Joao_Gilberto_-_Ela_e_Carioca', 'Joao_Gilberto_-_O_Barquinho', 'Voce_E_Eu_Nara_Leao', 'Sergio_Mendes_+_Brasil_66_-_Mas_Que_Nada', 'Minha_Namorada_-_Miucha_e_Vinicius_de_Moraes', 'Tarde_em_Itapoa_-_Vinicius_e_Toquinho', 'Sabado_em_Copacabana', 'Carlos_Lyra_-_Influencia_do_Jazz', 'Marcos_Valle_-_Samba_de_verao', 'Antonio_Carlos_Jobim_-_So_Danco_Samba', 'Joao_Gilberto_-_Lobo_Bobo', 'Jorge_Ben_Jor_-_Que_Maravilha']\n",
      "37\n"
     ]
    }
   ],
   "source": [
    "dataset_file = 'base.csv'\n",
    "bossa_Nova_dataset = []\n",
    "dataset_name = []\n",
    "dataset_genre = []\n",
    "\n",
    "with open (dataset_file, 'r') as f:\n",
    "    reader = csv.reader(f)\n",
    "    for row in reader:\n",
    "        #dataset contains the track's names\n",
    "        dataset_name.append(row[0])\n",
    "        dataset_genre.append(row[1])\n",
    "    for i in range(len(dataset_name)):\n",
    "        if dataset_genre[i] == \"bossa\":\n",
    "            bossa_Nova_dataset.append(dataset_name[i])\n",
    "    \n",
    "for i in range(len(bossa_Nova_dataset)):\n",
    "    bossa_Nova_dataset[i] = bossa_Nova_dataset[i][:-4]\n",
    "print (bossa_Nova_dataset)\n",
    "print (len(bossa_Nova_dataset))"
   ]
  },
  {
   "cell_type": "markdown",
   "metadata": {},
   "source": [
    "## Now we have to fetch all the lyrics. To do this, we will use a internet database and urllib2 in python"
   ]
  },
  {
   "cell_type": "code",
   "execution_count": 3,
   "metadata": {},
   "outputs": [
    {
     "data": {
      "application/vnd.jupyter.widget-view+json": {
       "model_id": "2cc80d8b51724dea8aedb0a8ebae0d1c",
       "version_major": 2,
       "version_minor": 0
      },
      "text/plain": [
       "A Jupyter Widget"
      ]
     },
     "metadata": {},
     "output_type": "display_data"
    },
    {
     "data": {
      "application/vnd.jupyter.widget-view+json": {
       "model_id": "ba54cf3bcffb467488a893fb0b3cd958",
       "version_major": 2,
       "version_minor": 0
      },
      "text/plain": [
       "A Jupyter Widget"
      ]
     },
     "metadata": {},
     "output_type": "display_data"
    },
    {
     "name": "stdout",
     "output_type": "stream",
     "text": [
      "A_Felicidade's lyrics saved in /lyrics/A_Felicidade.txt file\n",
      "\n"
     ]
    },
    {
     "data": {
      "application/vnd.jupyter.widget-view+json": {
       "model_id": "9b53f1bb205d47bc84435004660a8282",
       "version_major": 2,
       "version_minor": 0
      },
      "text/plain": [
       "A Jupyter Widget"
      ]
     },
     "metadata": {},
     "output_type": "display_data"
    },
    {
     "name": "stdout",
     "output_type": "stream",
     "text": [
      "Calice's lyrics saved in /lyrics/Calice.txt file\n",
      "\n"
     ]
    },
    {
     "data": {
      "application/vnd.jupyter.widget-view+json": {
       "model_id": "175d3e53244b47229ccf7b12f3f67552",
       "version_major": 2,
       "version_minor": 0
      },
      "text/plain": [
       "A Jupyter Widget"
      ]
     },
     "metadata": {},
     "output_type": "display_data"
    },
    {
     "name": "stdout",
     "output_type": "stream",
     "text": [
      "Elis_Regina_-_Como_Nossos_Pais's lyrics saved in /lyrics/Elis_Regina_-_Como_Nossos_Pais.txt file\n",
      "\n"
     ]
    },
    {
     "data": {
      "application/vnd.jupyter.widget-view+json": {
       "model_id": "44aeb10393e246a0a6a692928d7e725e",
       "version_major": 2,
       "version_minor": 0
      },
      "text/plain": [
       "A Jupyter Widget"
      ]
     },
     "metadata": {},
     "output_type": "display_data"
    },
    {
     "name": "stdout",
     "output_type": "stream",
     "text": [
      "Elis_Regina_-_Joao_e_Maria's lyrics not found\n",
      "\n"
     ]
    },
    {
     "ename": "KeyboardInterrupt",
     "evalue": "",
     "output_type": "error",
     "traceback": [
      "\u001b[0;31m---------------------------------------------------------------------------\u001b[0m",
      "\u001b[0;31mKeyboardInterrupt\u001b[0m                         Traceback (most recent call last)",
      "\u001b[0;32m<ipython-input-3-eb9af475fd3f>\u001b[0m in \u001b[0;36m<module>\u001b[0;34m()\u001b[0m\n\u001b[1;32m     13\u001b[0m     \u001b[0;31m#print response.read()\u001b[0m\u001b[0;34m\u001b[0m\u001b[0;34m\u001b[0m\u001b[0m\n\u001b[1;32m     14\u001b[0m \u001b[0;34m\u001b[0m\u001b[0m\n\u001b[0;32m---> 15\u001b[0;31m     \u001b[0mname_html\u001b[0m \u001b[0;34m=\u001b[0m \u001b[0mdocument\u001b[0m\u001b[0;34m=\u001b[0m \u001b[0mBeautifulSoup\u001b[0m\u001b[0;34m(\u001b[0m\u001b[0mresponse\u001b[0m\u001b[0;34m.\u001b[0m\u001b[0mread\u001b[0m\u001b[0;34m(\u001b[0m\u001b[0;34m)\u001b[0m\u001b[0;34m,\u001b[0m \u001b[0;34m\"lxml\"\u001b[0m\u001b[0;34m)\u001b[0m\u001b[0;34m.\u001b[0m\u001b[0mget_text\u001b[0m\u001b[0;34m(\u001b[0m\u001b[0;34m)\u001b[0m\u001b[0;34m\u001b[0m\u001b[0m\n\u001b[0m\u001b[1;32m     16\u001b[0m     \u001b[0;31m#print (name_html)\u001b[0m\u001b[0;34m\u001b[0m\u001b[0;34m\u001b[0m\u001b[0m\n\u001b[1;32m     17\u001b[0m \u001b[0;34m\u001b[0m\u001b[0m\n",
      "\u001b[0;32m/usr/local/lib/python3.5/dist-packages/bs4/__init__.py\u001b[0m in \u001b[0;36m__init__\u001b[0;34m(self, markup, features, builder, parse_only, from_encoding, exclude_encodings, **kwargs)\u001b[0m\n\u001b[1;32m    223\u001b[0m          \u001b[0mself\u001b[0m\u001b[0;34m.\u001b[0m\u001b[0mcontains_replacement_characters\u001b[0m\u001b[0;34m)\u001b[0m \u001b[0;32min\u001b[0m \u001b[0;34m(\u001b[0m\u001b[0;34m\u001b[0m\u001b[0m\n\u001b[1;32m    224\u001b[0m              self.builder.prepare_markup(\n\u001b[0;32m--> 225\u001b[0;31m                  markup, from_encoding, exclude_encodings=exclude_encodings)):\n\u001b[0m\u001b[1;32m    226\u001b[0m             \u001b[0mself\u001b[0m\u001b[0;34m.\u001b[0m\u001b[0mreset\u001b[0m\u001b[0;34m(\u001b[0m\u001b[0;34m)\u001b[0m\u001b[0;34m\u001b[0m\u001b[0m\n\u001b[1;32m    227\u001b[0m             \u001b[0;32mtry\u001b[0m\u001b[0;34m:\u001b[0m\u001b[0;34m\u001b[0m\u001b[0m\n",
      "\u001b[0;32m/usr/local/lib/python3.5/dist-packages/bs4/builder/_lxml.py\u001b[0m in \u001b[0;36mprepare_markup\u001b[0;34m(self, markup, user_specified_encoding, exclude_encodings, document_declared_encoding)\u001b[0m\n\u001b[1;32m    116\u001b[0m         detector = EncodingDetector(\n\u001b[1;32m    117\u001b[0m             markup, try_encodings, is_html, exclude_encodings)\n\u001b[0;32m--> 118\u001b[0;31m         \u001b[0;32mfor\u001b[0m \u001b[0mencoding\u001b[0m \u001b[0;32min\u001b[0m \u001b[0mdetector\u001b[0m\u001b[0;34m.\u001b[0m\u001b[0mencodings\u001b[0m\u001b[0;34m:\u001b[0m\u001b[0;34m\u001b[0m\u001b[0m\n\u001b[0m\u001b[1;32m    119\u001b[0m             \u001b[0;32myield\u001b[0m \u001b[0;34m(\u001b[0m\u001b[0mdetector\u001b[0m\u001b[0;34m.\u001b[0m\u001b[0mmarkup\u001b[0m\u001b[0;34m,\u001b[0m \u001b[0mencoding\u001b[0m\u001b[0;34m,\u001b[0m \u001b[0mdocument_declared_encoding\u001b[0m\u001b[0;34m,\u001b[0m \u001b[0;32mFalse\u001b[0m\u001b[0;34m)\u001b[0m\u001b[0;34m\u001b[0m\u001b[0m\n\u001b[1;32m    120\u001b[0m \u001b[0;34m\u001b[0m\u001b[0m\n",
      "\u001b[0;32m/usr/local/lib/python3.5/dist-packages/bs4/dammit.py\u001b[0m in \u001b[0;36mencodings\u001b[0;34m(self)\u001b[0m\n\u001b[1;32m    262\u001b[0m         \u001b[0;31m# encoding.\u001b[0m\u001b[0;34m\u001b[0m\u001b[0;34m\u001b[0m\u001b[0m\n\u001b[1;32m    263\u001b[0m         \u001b[0;32mif\u001b[0m \u001b[0mself\u001b[0m\u001b[0;34m.\u001b[0m\u001b[0mchardet_encoding\u001b[0m \u001b[0;32mis\u001b[0m \u001b[0;32mNone\u001b[0m\u001b[0;34m:\u001b[0m\u001b[0;34m\u001b[0m\u001b[0m\n\u001b[0;32m--> 264\u001b[0;31m             \u001b[0mself\u001b[0m\u001b[0;34m.\u001b[0m\u001b[0mchardet_encoding\u001b[0m \u001b[0;34m=\u001b[0m \u001b[0mchardet_dammit\u001b[0m\u001b[0;34m(\u001b[0m\u001b[0mself\u001b[0m\u001b[0;34m.\u001b[0m\u001b[0mmarkup\u001b[0m\u001b[0;34m)\u001b[0m\u001b[0;34m\u001b[0m\u001b[0m\n\u001b[0m\u001b[1;32m    265\u001b[0m         \u001b[0;32mif\u001b[0m \u001b[0mself\u001b[0m\u001b[0;34m.\u001b[0m\u001b[0m_usable\u001b[0m\u001b[0;34m(\u001b[0m\u001b[0mself\u001b[0m\u001b[0;34m.\u001b[0m\u001b[0mchardet_encoding\u001b[0m\u001b[0;34m,\u001b[0m \u001b[0mtried\u001b[0m\u001b[0;34m)\u001b[0m\u001b[0;34m:\u001b[0m\u001b[0;34m\u001b[0m\u001b[0m\n\u001b[1;32m    266\u001b[0m             \u001b[0;32myield\u001b[0m \u001b[0mself\u001b[0m\u001b[0;34m.\u001b[0m\u001b[0mchardet_encoding\u001b[0m\u001b[0;34m\u001b[0m\u001b[0m\n",
      "\u001b[0;32m/usr/local/lib/python3.5/dist-packages/bs4/dammit.py\u001b[0m in \u001b[0;36mchardet_dammit\u001b[0;34m(s)\u001b[0m\n\u001b[1;32m     32\u001b[0m         \u001b[0;32mimport\u001b[0m \u001b[0mchardet\u001b[0m\u001b[0;34m\u001b[0m\u001b[0m\n\u001b[1;32m     33\u001b[0m         \u001b[0;32mdef\u001b[0m \u001b[0mchardet_dammit\u001b[0m\u001b[0;34m(\u001b[0m\u001b[0ms\u001b[0m\u001b[0;34m)\u001b[0m\u001b[0;34m:\u001b[0m\u001b[0;34m\u001b[0m\u001b[0m\n\u001b[0;32m---> 34\u001b[0;31m             \u001b[0;32mreturn\u001b[0m \u001b[0mchardet\u001b[0m\u001b[0;34m.\u001b[0m\u001b[0mdetect\u001b[0m\u001b[0;34m(\u001b[0m\u001b[0ms\u001b[0m\u001b[0;34m)\u001b[0m\u001b[0;34m[\u001b[0m\u001b[0;34m'encoding'\u001b[0m\u001b[0;34m]\u001b[0m\u001b[0;34m\u001b[0m\u001b[0m\n\u001b[0m\u001b[1;32m     35\u001b[0m         \u001b[0;31m#import chardet.constants\u001b[0m\u001b[0;34m\u001b[0m\u001b[0;34m\u001b[0m\u001b[0m\n\u001b[1;32m     36\u001b[0m         \u001b[0;31m#chardet.constants._debug = 1\u001b[0m\u001b[0;34m\u001b[0m\u001b[0;34m\u001b[0m\u001b[0m\n",
      "\u001b[0;32m/usr/lib/python3/dist-packages/chardet/__init__.py\u001b[0m in \u001b[0;36mdetect\u001b[0;34m(aBuf)\u001b[0m\n\u001b[1;32m     28\u001b[0m     \u001b[0mu\u001b[0m \u001b[0;34m=\u001b[0m \u001b[0muniversaldetector\u001b[0m\u001b[0;34m.\u001b[0m\u001b[0mUniversalDetector\u001b[0m\u001b[0;34m(\u001b[0m\u001b[0;34m)\u001b[0m\u001b[0;34m\u001b[0m\u001b[0m\n\u001b[1;32m     29\u001b[0m     \u001b[0mu\u001b[0m\u001b[0;34m.\u001b[0m\u001b[0mreset\u001b[0m\u001b[0;34m(\u001b[0m\u001b[0;34m)\u001b[0m\u001b[0;34m\u001b[0m\u001b[0m\n\u001b[0;32m---> 30\u001b[0;31m     \u001b[0mu\u001b[0m\u001b[0;34m.\u001b[0m\u001b[0mfeed\u001b[0m\u001b[0;34m(\u001b[0m\u001b[0maBuf\u001b[0m\u001b[0;34m)\u001b[0m\u001b[0;34m\u001b[0m\u001b[0m\n\u001b[0m\u001b[1;32m     31\u001b[0m     \u001b[0mu\u001b[0m\u001b[0;34m.\u001b[0m\u001b[0mclose\u001b[0m\u001b[0;34m(\u001b[0m\u001b[0;34m)\u001b[0m\u001b[0;34m\u001b[0m\u001b[0m\n\u001b[1;32m     32\u001b[0m     \u001b[0;32mreturn\u001b[0m \u001b[0mu\u001b[0m\u001b[0;34m.\u001b[0m\u001b[0mresult\u001b[0m\u001b[0;34m\u001b[0m\u001b[0m\n",
      "\u001b[0;32m/usr/lib/python3/dist-packages/chardet/universaldetector.py\u001b[0m in \u001b[0;36mfeed\u001b[0;34m(self, aBuf)\u001b[0m\n\u001b[1;32m    126\u001b[0m                                          Latin1Prober()]\n\u001b[1;32m    127\u001b[0m             \u001b[0;32mfor\u001b[0m \u001b[0mprober\u001b[0m \u001b[0;32min\u001b[0m \u001b[0mself\u001b[0m\u001b[0;34m.\u001b[0m\u001b[0m_mCharSetProbers\u001b[0m\u001b[0;34m:\u001b[0m\u001b[0;34m\u001b[0m\u001b[0m\n\u001b[0;32m--> 128\u001b[0;31m                 \u001b[0;32mif\u001b[0m \u001b[0mprober\u001b[0m\u001b[0;34m.\u001b[0m\u001b[0mfeed\u001b[0m\u001b[0;34m(\u001b[0m\u001b[0maBuf\u001b[0m\u001b[0;34m)\u001b[0m \u001b[0;34m==\u001b[0m \u001b[0mconstants\u001b[0m\u001b[0;34m.\u001b[0m\u001b[0meFoundIt\u001b[0m\u001b[0;34m:\u001b[0m\u001b[0;34m\u001b[0m\u001b[0m\n\u001b[0m\u001b[1;32m    129\u001b[0m                     self.result = {'encoding': prober.get_charset_name(),\n\u001b[1;32m    130\u001b[0m                                    'confidence': prober.get_confidence()}\n",
      "\u001b[0;32m/usr/lib/python3/dist-packages/chardet/charsetgroupprober.py\u001b[0m in \u001b[0;36mfeed\u001b[0;34m(self, aBuf)\u001b[0m\n\u001b[1;32m     62\u001b[0m             \u001b[0;32mif\u001b[0m \u001b[0;32mnot\u001b[0m \u001b[0mprober\u001b[0m\u001b[0;34m.\u001b[0m\u001b[0mactive\u001b[0m\u001b[0;34m:\u001b[0m\u001b[0;34m\u001b[0m\u001b[0m\n\u001b[1;32m     63\u001b[0m                 \u001b[0;32mcontinue\u001b[0m\u001b[0;34m\u001b[0m\u001b[0m\n\u001b[0;32m---> 64\u001b[0;31m             \u001b[0mst\u001b[0m \u001b[0;34m=\u001b[0m \u001b[0mprober\u001b[0m\u001b[0;34m.\u001b[0m\u001b[0mfeed\u001b[0m\u001b[0;34m(\u001b[0m\u001b[0maBuf\u001b[0m\u001b[0;34m)\u001b[0m\u001b[0;34m\u001b[0m\u001b[0m\n\u001b[0m\u001b[1;32m     65\u001b[0m             \u001b[0;32mif\u001b[0m \u001b[0;32mnot\u001b[0m \u001b[0mst\u001b[0m\u001b[0;34m:\u001b[0m\u001b[0;34m\u001b[0m\u001b[0m\n\u001b[1;32m     66\u001b[0m                 \u001b[0;32mcontinue\u001b[0m\u001b[0;34m\u001b[0m\u001b[0m\n",
      "\u001b[0;32m/usr/lib/python3/dist-packages/chardet/sjisprober.py\u001b[0m in \u001b[0;36mfeed\u001b[0;34m(self, aBuf)\u001b[0m\n\u001b[1;32m     73\u001b[0m                 \u001b[0;32melse\u001b[0m\u001b[0;34m:\u001b[0m\u001b[0;34m\u001b[0m\u001b[0m\n\u001b[1;32m     74\u001b[0m                     self._mContextAnalyzer.feed(aBuf[i + 1 - charLen:i + 3\n\u001b[0;32m---> 75\u001b[0;31m                                                      - charLen], charLen)\n\u001b[0m\u001b[1;32m     76\u001b[0m                     self._mDistributionAnalyzer.feed(aBuf[i - 1:i + 1],\n\u001b[1;32m     77\u001b[0m                                                      charLen)\n",
      "\u001b[0;32m/usr/lib/python3/dist-packages/chardet/jpcntx.py\u001b[0m in \u001b[0;36mfeed\u001b[0;34m(self, aBuf, aLen)\u001b[0m\n\u001b[1;32m    150\u001b[0m         \u001b[0mi\u001b[0m \u001b[0;34m=\u001b[0m \u001b[0mself\u001b[0m\u001b[0;34m.\u001b[0m\u001b[0m_mNeedToSkipCharNum\u001b[0m\u001b[0;34m\u001b[0m\u001b[0m\n\u001b[1;32m    151\u001b[0m         \u001b[0;32mwhile\u001b[0m \u001b[0mi\u001b[0m \u001b[0;34m<\u001b[0m \u001b[0maLen\u001b[0m\u001b[0;34m:\u001b[0m\u001b[0;34m\u001b[0m\u001b[0m\n\u001b[0;32m--> 152\u001b[0;31m             \u001b[0morder\u001b[0m\u001b[0;34m,\u001b[0m \u001b[0mcharLen\u001b[0m \u001b[0;34m=\u001b[0m \u001b[0mself\u001b[0m\u001b[0;34m.\u001b[0m\u001b[0mget_order\u001b[0m\u001b[0;34m(\u001b[0m\u001b[0maBuf\u001b[0m\u001b[0;34m[\u001b[0m\u001b[0mi\u001b[0m\u001b[0;34m:\u001b[0m\u001b[0mi\u001b[0m \u001b[0;34m+\u001b[0m \u001b[0;36m2\u001b[0m\u001b[0;34m]\u001b[0m\u001b[0;34m)\u001b[0m\u001b[0;34m\u001b[0m\u001b[0m\n\u001b[0m\u001b[1;32m    153\u001b[0m             \u001b[0mi\u001b[0m \u001b[0;34m+=\u001b[0m \u001b[0mcharLen\u001b[0m\u001b[0;34m\u001b[0m\u001b[0m\n\u001b[1;32m    154\u001b[0m             \u001b[0;32mif\u001b[0m \u001b[0mi\u001b[0m \u001b[0;34m>\u001b[0m \u001b[0maLen\u001b[0m\u001b[0;34m:\u001b[0m\u001b[0;34m\u001b[0m\u001b[0m\n",
      "\u001b[0;32m/usr/lib/python3/dist-packages/chardet/jpcntx.py\u001b[0m in \u001b[0;36mget_order\u001b[0;34m(self, aBuf)\u001b[0m\n\u001b[1;32m    184\u001b[0m         \u001b[0;32mreturn\u001b[0m \u001b[0mself\u001b[0m\u001b[0;34m.\u001b[0m\u001b[0mcharset_name\u001b[0m\u001b[0;34m\u001b[0m\u001b[0m\n\u001b[1;32m    185\u001b[0m \u001b[0;34m\u001b[0m\u001b[0m\n\u001b[0;32m--> 186\u001b[0;31m     \u001b[0;32mdef\u001b[0m \u001b[0mget_order\u001b[0m\u001b[0;34m(\u001b[0m\u001b[0mself\u001b[0m\u001b[0;34m,\u001b[0m \u001b[0maBuf\u001b[0m\u001b[0;34m)\u001b[0m\u001b[0;34m:\u001b[0m\u001b[0;34m\u001b[0m\u001b[0m\n\u001b[0m\u001b[1;32m    187\u001b[0m         \u001b[0;32mif\u001b[0m \u001b[0;32mnot\u001b[0m \u001b[0maBuf\u001b[0m\u001b[0;34m:\u001b[0m\u001b[0;34m\u001b[0m\u001b[0m\n\u001b[1;32m    188\u001b[0m             \u001b[0;32mreturn\u001b[0m \u001b[0;34m-\u001b[0m\u001b[0;36m1\u001b[0m\u001b[0;34m,\u001b[0m \u001b[0;36m1\u001b[0m\u001b[0;34m\u001b[0m\u001b[0m\n",
      "\u001b[0;31mKeyboardInterrupt\u001b[0m: "
     ]
    }
   ],
   "source": [
    "for name in tqdm_notebook(bossa_Nova_dataset, desc= 'TOTAL'):\n",
    "    #for each track's name we get we replace \"_\" and \"-\" with \"+\" in order to use google's search mechanism\n",
    "    name_search = name.replace(\"_-_\", \"_\").replace(\"_\",\"+\")\n",
    "    #print (name_search)\n",
    "\n",
    "    #now we generate the url and do a request\n",
    "    url = 'http://www.google.com/search?q='+name_search\n",
    "    #print (url)\n",
    "    req = urllib.request.Request(url, headers={'User-Agent' : \"foobar\"})\n",
    "    response = urllib.request.urlopen(req)\n",
    "\n",
    "    #this next line is great to see what's happening but it makes ipython notebook really slow\n",
    "    #print response.read()\n",
    "\n",
    "    name_html = document= BeautifulSoup(response.read(), \"lxml\").get_text()\n",
    "    #print (name_html)\n",
    "\n",
    "    #link start is the string index to see the first character in the url that will be used to fetch the lyric\n",
    "    url_index_start=name_html.find('https://www.letras.mus.br/')\n",
    "\n",
    "    #url index end now shows the artist (27 is the lenght of 'https://www.letras.mus.br/')\n",
    "    url_index_end=name_html.find('/',url_index_start+27)\n",
    "\n",
    "    #now url index end shows the artist and the song number in url router\n",
    "    url_index_end=name_html.find('/',url_index_end+1)\n",
    "\n",
    "    #now name_url show the url that has the music lyric in it\n",
    "    name_url = name_html[url_index_start:url_index_end + 1]\n",
    "    #print (name_url)\n",
    "    \n",
    "    useless_iterable = [1]\n",
    "    \n",
    "    for i in tqdm_notebook(useless_iterable, desc = name):\n",
    "        if name_url == \"\":\n",
    "            print  (name + \"'s lyrics not found\\n\")\n",
    "\n",
    "        else:\n",
    "            #print name_url +\"\\n\"\n",
    "            req = urllib.request.Request(name_url, headers={'User-Agent' : \"foobar\"})\n",
    "            response = urllib.request.urlopen(req)\n",
    "            #lyrics_html contains html with the lyrics in it\n",
    "            lyrics_html = response.read()\n",
    "            #soup is a html parser \n",
    "            soup = BeautifulSoup(lyrics_html, \"lxml\")\n",
    "            #in this part it gets the part with the class tag cnt-letra p402_premium\n",
    "            #this means that it will get the music lyric with all the html tags\n",
    "            for raw_lyrics in (soup.findAll(attrs={\"class\" : \"cnt-letra p402_premium\"})):\n",
    "                lyrics = raw_lyrics\n",
    "                \n",
    "            lyrics = str(lyrics)\n",
    "            #print (lyrics)\n",
    "            #print(type(lyrics))\n",
    "            #now the final step is to remove all the html tags in the lyric\n",
    "            lyrics = lyrics.replace('<div class=\"cnt-letra p402_premium\"> ', '').replace('</div>', '').replace('<p>', ' ')\n",
    "            lyrics = lyrics.replace('</p>', ' ')\n",
    "            lyrics = lyrics.replace('<article> ', '').replace('</article> ', '').replace('<br>', ' ').replace('<br/>', ' ')\n",
    "            #print lyrics\n",
    "\n",
    "            #and finaly we save it\n",
    "            f = open(\"/home/felipetanios/Documents/NLP/lyrics/\"+name+\".txt\", \"w+\")\n",
    "            f.write(lyrics)\n",
    "            f.close()\n",
    "            print (name + \"'s lyrics saved in /lyrics/\" + name +\".txt file\\n\")"
   ]
  },
  {
   "cell_type": "code",
   "execution_count": null,
   "metadata": {
    "collapsed": true
   },
   "outputs": [],
   "source": []
  }
 ],
 "metadata": {
  "kernelspec": {
   "display_name": "Python 3",
   "language": "python",
   "name": "python3"
  },
  "language_info": {
   "codemirror_mode": {
    "name": "ipython",
    "version": 3
   },
   "file_extension": ".py",
   "mimetype": "text/x-python",
   "name": "python",
   "nbconvert_exporter": "python",
   "pygments_lexer": "ipython3",
   "version": "3.5.2"
  }
 },
 "nbformat": 4,
 "nbformat_minor": 1
}
