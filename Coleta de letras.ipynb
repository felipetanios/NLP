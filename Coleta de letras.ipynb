{
 "cells": [
  {
   "cell_type": "markdown",
   "metadata": {},
   "source": [
    "# Fetching dataset lyrics "
   ]
  },
  {
   "cell_type": "markdown",
   "metadata": {},
   "source": [
    "##     Fist we have to get all the bossa nova track's names in our dataset and then, we have to take out the \".wav\" part of the name"
   ]
  },
  {
   "cell_type": "code",
   "execution_count": 1,
   "metadata": {
    "collapsed": true
   },
   "outputs": [],
   "source": [
    "import csv\n",
    "import urllib\n",
    "from bs4 import BeautifulSoup\n",
    "import codecs\n",
    "from tqdm import tqdm_notebook, tnrange"
   ]
  },
  {
   "cell_type": "code",
   "execution_count": 2,
   "metadata": {},
   "outputs": [
    {
     "name": "stdout",
     "output_type": "stream",
     "text": [
      "['A_Felicidade', 'Calice', 'Elis_Regina_-_Como_Nossos_Pais', 'Elis_Regina_-_Joao_e_Maria', 'Elis_Regina_-_Maria_Maria', 'Elis_Regina_-_Carinhoso_(Meu_Coracao)', 'Milton_Nascimento_-_Travessia', 'Elis_Regina_-_Tristeza', 'eu_nao_existo_sem_voce_-_Maria_Bethania', 'Toquinho_-_Meditacao', 'Soneto_de_Separacao_-_Elis_e_Tom', 'Tom_Jobim_-_Luiza', 'Onde_anda_voce_Toquinho_Vinicius_de_moraes', 'Samba_Em_Preludio_-_Vinicius_de_Moraes_,Maria_Creuza_y_Toquinho', 'Gal_Costa_-_Anos_Dourados', 'Gal_Costa_-_Se_Todos_Fossem_Iguais_A_Voce', 'Chico_Buarque_de_Hollanda_-_Geni_e_o_Zepelim_(1979)', 'Elis_Regina_-_O_Bebado_e_a_Equilibrista', 'Wave', 'Samba_de_Uma_Nota_So', 'aguas_de_Marco', 'Elis_Regina_-_Madalena', 'Garota_de_Ipanema', 'Samba_do_Aviao', 'Gilberto_Gil_-_Rosa_Morena', 'Joao_Gilberto_-_Ela_e_Carioca', 'Joao_Gilberto_-_O_Barquinho', 'Voce_E_Eu_Nara_Leao', 'Sergio_Mendes_+_Brasil_66_-_Mas_Que_Nada', 'Minha_Namorada_-_Miucha_e_Vinicius_de_Moraes', 'Tarde_em_Itapoa_-_Vinicius_e_Toquinho', 'Sabado_em_Copacabana', 'Carlos_Lyra_-_Influencia_do_Jazz', 'Marcos_Valle_-_Samba_de_verao', 'Antonio_Carlos_Jobim_-_So_Danco_Samba', 'Joao_Gilberto_-_Lobo_Bobo', 'Jorge_Ben_Jor_-_Que_Maravilha']\n",
      "37\n"
     ]
    }
   ],
   "source": [
    "dataset_file = '/home/felipetanios/Documents/Iniciação Cientifica/base.csv'\n",
    "bossa_Nova_dataset = []\n",
    "dataset_name = []\n",
    "dataset_genre = []\n",
    "\n",
    "with open (dataset_file, 'r') as f:\n",
    "    reader = csv.reader(f)\n",
    "    for row in reader:\n",
    "        #dataset contains the track's names\n",
    "        dataset_name.append(row[0])\n",
    "        dataset_genre.append(row[1])\n",
    "    for i in range(len(dataset_name)):\n",
    "        if dataset_genre[i] == \"bossa\":\n",
    "            bossa_Nova_dataset.append(dataset_name[i])\n",
    "    \n",
    "for i in range(len(bossa_Nova_dataset)):\n",
    "    bossa_Nova_dataset[i] = bossa_Nova_dataset[i][:-4]\n",
    "print (bossa_Nova_dataset)\n",
    "print (len(bossa_Nova_dataset))"
   ]
  },
  {
   "cell_type": "markdown",
   "metadata": {},
   "source": [
    "## Now we have to fetch all the lyrics. To do this, we will use a internet database and urllib2 in python"
   ]
  },
  {
   "cell_type": "code",
   "execution_count": 7,
   "metadata": {},
   "outputs": [
    {
     "data": {
      "application/vnd.jupyter.widget-view+json": {
       "model_id": "3ecb5852dfea4ce68ae2daba4a1c8caa",
       "version_major": 2,
       "version_minor": 0
      },
      "text/plain": [
       "A Jupyter Widget"
      ]
     },
     "metadata": {},
     "output_type": "display_data"
    },
    {
     "data": {
      "application/vnd.jupyter.widget-view+json": {
       "model_id": "2e889b87ef1e43e5a4cd5a35d41693a2",
       "version_major": 2,
       "version_minor": 0
      },
      "text/plain": [
       "A Jupyter Widget"
      ]
     },
     "metadata": {},
     "output_type": "display_data"
    },
    {
     "name": "stdout",
     "output_type": "stream",
     "text": [
      "A_Felicidade's lyrics not found\n",
      "\n"
     ]
    },
    {
     "data": {
      "application/vnd.jupyter.widget-view+json": {
       "model_id": "6c857c6000064b939710aa16e5a0689f",
       "version_major": 2,
       "version_minor": 0
      },
      "text/plain": [
       "A Jupyter Widget"
      ]
     },
     "metadata": {},
     "output_type": "display_data"
    },
    {
     "name": "stdout",
     "output_type": "stream",
     "text": [
      "<div class=\"cnt-letra p402_premium\"> <article> <p>Pai, afasta de mim esse cálice<br/>Pai, afasta de mim esse cálice<br/>Pai, afasta de mim esse cálice<br/>De vinho tinto de sangue</p><p>Pai, afasta de mim esse cálice<br/>Pai, afasta de mim esse cálice<br/>Pai, afasta de mim esse cálice<br/>De vinho tinto de sangue</p><p>Como beber dessa bebida amarga<br/>Tragar a dor, engolir a labuta<br/>Mesmo calada a boca, resta o peito<br/>Silêncio na cidade não se escuta<br/>De que me vale ser filho da santa<br/>Melhor seria ser filho da outra<br/>Outra realidade menos morta<br/>Tanta mentira, tanta força bruta</p><p>Pai, afasta de mim esse cálice<br/>Pai, afasta de mim esse cálice<br/>Pai, afasta de mim esse cálice<br/>De vinho tinto de sangue</p><p>Como é difícil acordar calado<br/>Se na calada da noite eu me dano<br/>Quero lançar um grito desumano<br/>Que é uma maneira de ser escutado<br/>Esse silêncio todo me atordoa<br/>Atordoado eu permaneço atento<br/>Na arquibancada pra a qualquer momento<br/>Ver emergir o monstro da lagoa</p><p>Pai, afasta de mim esse cálice<br/>Pai, afasta de mim esse cálice<br/>Pai, afasta de mim esse cálice<br/>De vinho tinto de sangue</p><p>De muito gorda a porca já não anda<br/>De muito usada a faca já não corta<br/>Como é difícil, pai, abrir a porta<br/>Essa palavra presa na garganta<br/>Esse pileque homérico no mundo<br/>De que adianta ter boa vontade<br/>Mesmo calado o peito, resta a cuca<br/>Dos bêbados do centro da cidade</p><p>Pai, afasta de mim esse cálice<br/>Pai, afasta de mim esse cálice<br/>Pai, afasta de mim esse cálice<br/>De vinho tinto de sangue</p><p>Talvez o mundo não seja pequeno<br/>Nem seja a vida um fato consumado<br/>Quero inventar o meu próprio pecado<br/>Quero morrer do meu próprio veneno<br/>Quero perder de vez tua cabeça<br/>Minha cabeça perder teu juízo<br/>Quero cheirar fumaça de óleo diesel<br/>Me embriagar até que alguém me esqueça</p> </article> </div>\n",
      "<class 'str'>\n",
      "Calice's lyrics saved in /lyrics/Calice.txt file\n",
      "\n"
     ]
    },
    {
     "data": {
      "application/vnd.jupyter.widget-view+json": {
       "model_id": "f733348867e0482eae0f71a38611b75b",
       "version_major": 2,
       "version_minor": 0
      },
      "text/plain": [
       "A Jupyter Widget"
      ]
     },
     "metadata": {},
     "output_type": "display_data"
    },
    {
     "name": "stdout",
     "output_type": "stream",
     "text": [
      "<div class=\"cnt-letra p402_premium\"> <article> <p>Não quero lhe falar<br/>Meu grande amor<br/>Das coisas que aprendi<br/>Nos discos<br/>Quero lhe contar como eu vivi<br/>E tudo o que aconteceu comigo</p><p>Viver é melhor que sonhar<br/>Eu sei que o amor<br/>É uma coisa boa<br/>Mas também sei<br/>Que qualquer canto<br/>É menor do que a vida<br/>De qualquer pessoa</p><p>Por isso cuidado, meu bem<br/>Há perigo na esquina<br/>Eles venceram e o sinal<br/>Está fechado pra nós<br/>Que somos jovens</p><p>Para abraçar seu irmão<br/>E beijar sua menina na rua<br/>É que se fez o seu braço<br/>O seu lábio e a sua voz</p><p>Você me pergunta<br/>Pela minha paixão<br/>Digo que estou encantada<br/>Como uma nova invenção<br/>Eu vou ficar nesta cidade<br/>Não vou voltar pro sertão<br/>Pois vejo vir vindo no vento<br/>Cheiro de nova estação<br/>Eu sinto tudo na ferida viva<br/>Do meu coração</p><p>Já faz tempo<br/>Eu vi você na rua<br/>Cabelo ao vento<br/>Gente jovem reunida<br/>Na parede da memória<br/>Essa lembrança<br/>É o quadro que dói mais</p><p>Minha dor é perceber<br/>Que apesar de termos<br/>Feito tudo o que fizemos<br/>Ainda somos os mesmos<br/>E vivemos<br/>Ainda somos os mesmos<br/>E vivemos<br/>Como os nossos pais</p><p>Nossos ídolos<br/>Ainda são os mesmos<br/>E as aparências<br/>Não enganam não<br/>Você diz que depois deles<br/>Não apareceu mais ninguém</p><p>Você pode até dizer<br/>Que eu tô por fora<br/>Ou então<br/>Que eu tô inventando</p><p>Mas é você<br/>Que ama o passado<br/>E que não vê<br/>É você<br/>Que ama o passado<br/>E que não vê<br/>Que o novo sempre vem</p><p>Hoje eu sei<br/>Que quem me deu a idéia<br/>De uma nova consciência<br/>E juventude<br/>Tá em casa<br/>Guardado por Deus<br/>Contando o vil metal</p><p>Minha dor é perceber<br/>Que apesar de termos<br/>Feito tudo, tudo<br/>Tudo o que fizemos<br/>Nós ainda somos<br/>Os mesmos e vivemos<br/>Ainda somos<br/>Os mesmos e vivemos<br/>Ainda somos<br/>Os mesmos e vivemos<br/>Como os nossos pais</p> </article> </div>\n",
      "<class 'str'>\n",
      "Elis_Regina_-_Como_Nossos_Pais's lyrics saved in /lyrics/Elis_Regina_-_Como_Nossos_Pais.txt file\n",
      "\n"
     ]
    },
    {
     "data": {
      "application/vnd.jupyter.widget-view+json": {
       "model_id": "ba780dce87f44ad2800f6f778b24be7c",
       "version_major": 2,
       "version_minor": 0
      },
      "text/plain": [
       "A Jupyter Widget"
      ]
     },
     "metadata": {},
     "output_type": "display_data"
    },
    {
     "name": "stdout",
     "output_type": "stream",
     "text": [
      "<div class=\"cnt-letra p402_premium\"> <article> <p>Agora eu era o herói<br/>E o meu cavalo só falava inglês<br/>A noiva do cowboy era você, além das outras três<br/>Eu enfrentava os batalhões, os alemães e seus canhões<br/>Guardava o meu bodoque e ensaiava o rock para as matinês</p><p>Agora eu era o rei<br/>Era o bedel e era também juiz<br/>E pela minha lei a gente era obrigada a ser feliz<br/>E você era a princesa que eu fiz coroar<br/>E era tão linda de se admirar<br/>Que andava nua pelo meu país</p><p>Não, não fuja não<br/>Finja que agora eu era o seu brinquedo<br/>Eu era o seu pião, o seu bicho preferido...<br/>Vem, me dê a mão, a gente agora já não tinha medo<br/>No tempo da maldade acho que a gente nem tinha nascido</p><p>Agora era fatal que o faz-de-conta terminasse assim<br/>Pra lá desse quintal era uma noite que não tem mais fim<br/>Pois você sumiu no mundo sem me avisar<br/>E agora eu era um louco a perguntar<br/>O que que a vida vai fazer de mim?</p> </article> </div>\n",
      "<class 'str'>\n",
      "Elis_Regina_-_Joao_e_Maria's lyrics saved in /lyrics/Elis_Regina_-_Joao_e_Maria.txt file\n",
      "\n"
     ]
    },
    {
     "data": {
      "application/vnd.jupyter.widget-view+json": {
       "model_id": "54f0ddf5cea141b4b9b15eb832039986",
       "version_major": 2,
       "version_minor": 0
      },
      "text/plain": [
       "A Jupyter Widget"
      ]
     },
     "metadata": {},
     "output_type": "display_data"
    },
    {
     "name": "stdout",
     "output_type": "stream",
     "text": [
      "<div class=\"cnt-letra p402_premium\"> <article> <p>Maria, Maria <br/>É um dom, uma certa magia, <br/>Uma força que nos alerta <br/>Uma mulher que merece viver e amar <br/>Como outra qualquer do planeta <br/>Maria, Maria <br/>É o som, é a cor, é o suor <br/>É a dose mais forte e lenta <br/>De uma gente que ri quando deve chorar <br/>E não vive, apenas agüenta <br/>Mas é preciso ter força <br/>É preciso ter raça <br/>É preciso ter gana sempre <br/>Quem traz no corpo a marca <br/>Maria, Maria <br/>Mistura a dor e a alegria <br/>Mas é preciso ter manha <br/>É preciso ter graça <br/>É preciso ter sonho sempre <br/>Quem traz na pele essa marca <br/>Possui a estranha mania <br/>De ter fé na vida</p> </article> </div>\n",
      "<class 'str'>\n",
      "Elis_Regina_-_Maria_Maria's lyrics saved in /lyrics/Elis_Regina_-_Maria_Maria.txt file\n",
      "\n"
     ]
    },
    {
     "data": {
      "application/vnd.jupyter.widget-view+json": {
       "model_id": "a8bbff7057a04f2ebb7bdf6fc4855621",
       "version_major": 2,
       "version_minor": 0
      },
      "text/plain": [
       "A Jupyter Widget"
      ]
     },
     "metadata": {},
     "output_type": "display_data"
    },
    {
     "name": "stdout",
     "output_type": "stream",
     "text": [
      "<div class=\"cnt-letra p402_premium\"> <article> <p>Meu coração, não sei por que<br/>Bate feliz quando te vê<br/>E os meus olhos ficam sorrindo<br/>E pelas ruas vão te seguindo<br/>Mas mesmo assim<br/>Foges de mim</p><p>Ah se tu soubesses como sou tão carinhosa<br/>E o muito, muito que te quero<br/>E como é sincero o meu amor<br/>Eu sei que tu não fugirias mais de mim</p><p>Vem, vem, vem, vem<br/>Vem sentir o calor dos lábios meus a procura dos teus<br/>Vem matar essa paixão que me devora o coração<br/>E só assim então serei feliz<br/>Bem feliz</p><p>Ah se tu soubesses como sou tão carinhosa<br/>E o muito, muito que te quero<br/>E como é sincero o meu amor<br/>Eu sei que tu não fugirias mais de mim</p><p>Vem, vem, vem, vem<br/>Vem sentir o calor dos lábios meus a procura dos teus<br/>Vem matar essa paixão que me devora o coração<br/>E só assim então serei feliz<br/>Bem feliz</p> </article> </div>\n",
      "<class 'str'>\n",
      "Elis_Regina_-_Carinhoso_(Meu_Coracao)'s lyrics saved in /lyrics/Elis_Regina_-_Carinhoso_(Meu_Coracao).txt file\n",
      "\n"
     ]
    },
    {
     "data": {
      "application/vnd.jupyter.widget-view+json": {
       "model_id": "a25e65611f184558b6bbd4127daf0284",
       "version_major": 2,
       "version_minor": 0
      },
      "text/plain": [
       "A Jupyter Widget"
      ]
     },
     "metadata": {},
     "output_type": "display_data"
    },
    {
     "name": "stdout",
     "output_type": "stream",
     "text": [
      "<div class=\"cnt-letra p402_premium\"> <article> <p>Quando você foi embora fez-se noite em meu viver<br/>Forte eu sou, mas não tem jeito<br/>Hoje eu tenho que chorar<br/>Minha casa não é minha e nem é meu este lugar<br/>Estou só e não resisto, muito tenho pra falar</p><p>Solto a voz nas estradas, já não quero parar<br/>Meu caminho é de pedra, como posso sonhar<br/>Sonho feito de brisa, vento vem terminar<br/>Vou fechar o meu pranto, vou querer me matar</p><p>Vou seguindo pela vida me esquecendo de você<br/>Eu não quero mais a morte, tenho muito o que viver<br/>Vou querer amar de novo e se não der não vou sofrer<br/>Já não sonho, hoje faço com meu braço o meu viver</p><p>Solto a voz nas estradas, já não quero parar<br/>Meu caminho é de pedra, como posso sonhar<br/>Sonho feito de brisa, vento vem terminar<br/>Vou fechar o meu pranto, vou querer me matar</p><p>Vou seguindo pela vida me esquecendo de você<br/>Eu não quero mais a morte, tenho muito o que viver<br/>Vou querer amar de novo e se não der não vou sofrer<br/>Já não sonho, hoje faço com meu braço o meu viver</p> </article> </div>\n",
      "<class 'str'>\n",
      "Milton_Nascimento_-_Travessia's lyrics saved in /lyrics/Milton_Nascimento_-_Travessia.txt file\n",
      "\n"
     ]
    },
    {
     "data": {
      "application/vnd.jupyter.widget-view+json": {
       "model_id": "245e370bb2834321933ac7776ff1cbf7",
       "version_major": 2,
       "version_minor": 0
      },
      "text/plain": [
       "A Jupyter Widget"
      ]
     },
     "metadata": {},
     "output_type": "display_data"
    },
    {
     "name": "stdout",
     "output_type": "stream",
     "text": [
      "<div class=\"cnt-letra p402_premium\"> <article> <p>Lala, laralara...<br/>Quero, de novo, cantar<br/>Tristeza, por favor, vá embora<br/>Minha alma que chora, está vendo o meu fim<br/>Fez do meu coração a sua moradia<br/>Já é demais o meu penar<br/>Quero voltar àquela vida de alegria<br/>Quero, de novo, cantar<br/>Laiara...</p> </article> </div>\n",
      "<class 'str'>\n",
      "Elis_Regina_-_Tristeza's lyrics saved in /lyrics/Elis_Regina_-_Tristeza.txt file\n",
      "\n"
     ]
    },
    {
     "data": {
      "application/vnd.jupyter.widget-view+json": {
       "model_id": "5a078fb703804576bf8ccd1dfbc10b05",
       "version_major": 2,
       "version_minor": 0
      },
      "text/plain": [
       "A Jupyter Widget"
      ]
     },
     "metadata": {},
     "output_type": "display_data"
    },
    {
     "name": "stdout",
     "output_type": "stream",
     "text": [
      "<div class=\"cnt-letra p402_premium\"> <article> <p>Eu sei e você sabe<br/>Já que a vida quis assim<br/>Que nada nesse mundo<br/>Levará<br/>Você de mim</p><p>Eu sei e você sabe<br/>A distância não existe<br/>E todo grande amor<br/>Só é bem grande<br/>Se for triste</p><p>Por isso meu amor<br/>Não tenha medo de sofrer<br/>Pois todos os caminhos<br/>Me encaminham<br/>Pra você</p><p>Assim<br/>Como o oceano<br/>Só é belo com o luar<br/>Assim como a canção<br/>Só tem razão se se cantar<br/>Assim como uma nuvem<br/>Só acontece se chover<br/>Assim como o poeta<br/>Só é grande se sofrer<br/>Assim,como viver<br/>Sem ter amor<br/>Não é viver<br/>Não há você sem mim<br/>E eu não existo<br/>Sem você</p><p><br/>(2x)</p> </article> </div>\n",
      "<class 'str'>\n",
      "eu_nao_existo_sem_voce_-_Maria_Bethania's lyrics saved in /lyrics/eu_nao_existo_sem_voce_-_Maria_Bethania.txt file\n",
      "\n"
     ]
    },
    {
     "data": {
      "application/vnd.jupyter.widget-view+json": {
       "model_id": "9307d31dd1144a92ba232952c8880250",
       "version_major": 2,
       "version_minor": 0
      },
      "text/plain": [
       "A Jupyter Widget"
      ]
     },
     "metadata": {},
     "output_type": "display_data"
    },
    {
     "name": "stdout",
     "output_type": "stream",
     "text": [
      "<div class=\"cnt-letra p402_premium\"> <article> <p>Quem acreditou<br/>No amor, no sorriso e na flor<br/>Então sonhou, sonhou<br/>E perdeu a paz<br/>O amor, o sorriso e a flor<br/>Se transformam depressa demais<br/>Quem no coração<br/>Abrigou a tristeza de ver<br/>Tudo isso se perder<br/>E na solidão<br/>Procurou o caminho e seguiu<br/>Já descrente de um dia feliz<br/>Quem chorou, chorou<br/>E tanto que o seu pranto já secou<br/>Quem depois voltou<br/>Ao amor, ao sorriso e à flor<br/>Então tudo encontrou<br/>Pois a própria dor<br/>Revelou o caminho do amor<br/>E a tristeza acabou</p> </article> </div>\n",
      "<class 'str'>\n",
      "Toquinho_-_Meditacao's lyrics saved in /lyrics/Toquinho_-_Meditacao.txt file\n",
      "\n"
     ]
    },
    {
     "data": {
      "application/vnd.jupyter.widget-view+json": {
       "model_id": "14d18773d08341479b154072b9309a9d",
       "version_major": 2,
       "version_minor": 0
      },
      "text/plain": [
       "A Jupyter Widget"
      ]
     },
     "metadata": {},
     "output_type": "display_data"
    },
    {
     "name": "stdout",
     "output_type": "stream",
     "text": [
      "<div class=\"cnt-letra p402_premium\"> <article> <p>De repente do riso fez-se o pranto<br/>Silencioso e branco como a bruma<br/>E das bocas unidas fez-se a espuma<br/>E das mãos espalmadas fez-se o espanto</p><p>De repente da calma fez-se o vento<br/>Que dos olhos desfez a última chama<br/>E da paixão fez-se o pressentimento<br/>E do momento imóvel fez-se o drama</p><p>De repente, não mais que de repente<br/>Fez-se de triste o que se fez amante<br/>E de sozinho o que se fez contente</p><p>Fez-se do amigo próximo, distante<br/>Fez-se da vida uma aventura errante<br/>De repente, não mais que de repente</p> </article> </div>\n",
      "<class 'str'>\n",
      "Soneto_de_Separacao_-_Elis_e_Tom's lyrics saved in /lyrics/Soneto_de_Separacao_-_Elis_e_Tom.txt file\n",
      "\n"
     ]
    },
    {
     "data": {
      "application/vnd.jupyter.widget-view+json": {
       "model_id": "8c20ef34a3bf424e93865f9f33f47653",
       "version_major": 2,
       "version_minor": 0
      },
      "text/plain": [
       "A Jupyter Widget"
      ]
     },
     "metadata": {},
     "output_type": "display_data"
    },
    {
     "name": "stdout",
     "output_type": "stream",
     "text": [
      "<div class=\"cnt-letra p402_premium\"> <article> <p>Rua,<br/>Espada nua<br/>Boia no céu imensa e amarela<br/>Tão redonda a lua<br/>Como flutua<br/>Vem navegando o azul do firmamento<br/>E no silêncio lento<br/>Um trovador, cheio de estrelas<br/>Escuta agora a canção que eu fiz<br/>Pra te esquecer Luiza<br/>Eu sou apenas um pobre amador<br/>Apaixonado<br/>Um aprendiz do teu amor<br/>Acorda amor<br/>Que eu sei que embaixo desta neve mora um coração</p><p>Vem cá, Luiza<br/>Me dá tua mão<br/>O teu desejo é sempre o meu desejo<br/>Vem, me exorciza<br/>Dá-me tua boca<br/>E a rosa louca<br/>Vem me dar um beijo<br/>E um raio de sol<br/>Nos teus cabelos<br/>Como um brilhante que partindo a luz<br/>Explode em sete cores<br/>Revelando então os sete mil amores<br/>Que eu guardei somente pra te dar Luiza<br/>Luiza<br/>Luiza</p> </article> </div>\n",
      "<class 'str'>\n",
      "Tom_Jobim_-_Luiza's lyrics saved in /lyrics/Tom_Jobim_-_Luiza.txt file\n",
      "\n"
     ]
    },
    {
     "data": {
      "application/vnd.jupyter.widget-view+json": {
       "model_id": "98df03c582254f608c14c484632fb57e",
       "version_major": 2,
       "version_minor": 0
      },
      "text/plain": [
       "A Jupyter Widget"
      ]
     },
     "metadata": {},
     "output_type": "display_data"
    },
    {
     "name": "stdout",
     "output_type": "stream",
     "text": [
      "<div class=\"cnt-letra p402_premium\"> <article> <p>E por falar em saudade<br/>Onde anda você<br/>Onde andam os seus olhos<br/>Que a gente não vê<br/>Onde anda esse corpo<br/>Que me deixou morto<br/>De tanto prazer</p><p>E por falar em beleza<br/>Onde anda a canção<br/>Que se ouvia na noite<br/>Dos bares de então<br/>Onde a gente ficava<br/>Onde a gente se amava<br/>Em total solidão</p><p>Hoje eu saio na noite vazia<br/>Numa boemia sem razão de ser<br/>Na rotina dos bares<br/>Que apesar dos pesares<br/>Me trazem você</p><p>E por falar em paixão<br/>Em razão de viver<br/>Você bem que podia me aparecer<br/>Nesses mesmos lugares<br/>Na noite, nos bares<br/>Onde anda você</p> </article> </div>\n",
      "<class 'str'>\n",
      "Onde_anda_voce_Toquinho_Vinicius_de_moraes's lyrics saved in /lyrics/Onde_anda_voce_Toquinho_Vinicius_de_moraes.txt file\n",
      "\n"
     ]
    },
    {
     "data": {
      "application/vnd.jupyter.widget-view+json": {
       "model_id": "74a124ad23eb4e239a15a41be09aa4a7",
       "version_major": 2,
       "version_minor": 0
      },
      "text/plain": [
       "A Jupyter Widget"
      ]
     },
     "metadata": {},
     "output_type": "display_data"
    },
    {
     "name": "stdout",
     "output_type": "stream",
     "text": [
      "<div class=\"cnt-letra p402_premium\"> <article> <p>Eu sem você não tenho porque<br/>porque sem você não sei nem chorar<br/>Sou chama sem luz<br/>jardim sem luar<br/>luar sem amor<br/>amor sem se dar<br/>E eu sem você<br/>sou só desamor<br/>um barco sem mar<br/>um campo sem flor<br/>Tristeza que vai<br/>tristeza que vem<br/>Sem você meu amor eu não sou<br/>ninguém</p><p>Ah que saudade<br/>que vontade de ver renascer<br/>nossa vida<br/>Volta querido<br/>os meus braços precisam dos teus<br/>Teus abraços precisam dos meus<br/>Estou tão sozinha<br/>tenho os olhos cansados de olhar<br/>para o além<br/>Vem ver a vida<br/>Sem você meu amor eu não sou<br/>ninguém</p> </article> </div>\n",
      "<class 'str'>\n",
      "Samba_Em_Preludio_-_Vinicius_de_Moraes_,Maria_Creuza_y_Toquinho's lyrics saved in /lyrics/Samba_Em_Preludio_-_Vinicius_de_Moraes_,Maria_Creuza_y_Toquinho.txt file\n",
      "\n"
     ]
    },
    {
     "data": {
      "application/vnd.jupyter.widget-view+json": {
       "model_id": "93ed77af862044689f01b5e841ae2cb1",
       "version_major": 2,
       "version_minor": 0
      },
      "text/plain": [
       "A Jupyter Widget"
      ]
     },
     "metadata": {},
     "output_type": "display_data"
    },
    {
     "name": "stdout",
     "output_type": "stream",
     "text": [
      "Gal_Costa_-_Anos_Dourados's lyrics not found\n",
      "\n"
     ]
    },
    {
     "data": {
      "application/vnd.jupyter.widget-view+json": {
       "model_id": "fd083eb3b94b4efa85139d73a1ec8b82",
       "version_major": 2,
       "version_minor": 0
      },
      "text/plain": [
       "A Jupyter Widget"
      ]
     },
     "metadata": {},
     "output_type": "display_data"
    },
    {
     "name": "stdout",
     "output_type": "stream",
     "text": [
      "Gal_Costa_-_Se_Todos_Fossem_Iguais_A_Voce's lyrics not found\n",
      "\n"
     ]
    },
    {
     "data": {
      "application/vnd.jupyter.widget-view+json": {
       "model_id": "923dd55d149440198e87c0ecbff6f613",
       "version_major": 2,
       "version_minor": 0
      },
      "text/plain": [
       "A Jupyter Widget"
      ]
     },
     "metadata": {},
     "output_type": "display_data"
    },
    {
     "name": "stdout",
     "output_type": "stream",
     "text": [
      "<div class=\"cnt-letra p402_premium\"> <article> <p>De tudo que é nego torto<br/>Do mangue e do cais do porto<br/>Ela já foi namorada<br/>O seu corpo é dos errantes<br/>Dos cegos, dos retirantes<br/>É de quem não tem mais nada</p><p>Dá-se assim desde menina<br/>Na garagem, na cantina<br/>Atrás do tanque, no mato<br/>É a rainha dos detentos<br/>Das loucas, dos lazarentos<br/>Dos moleques do internato</p><p>E também vai amiúde<br/>Com os velhinhos sem saúde<br/>E as viúvas sem porvir<br/>Ela é um poço de bondade<br/>E é por isso que a cidade<br/>Vive sempre a repetir</p><p>Joga pedra na Geni!<br/>Joga pedra na Geni!<br/>Ela é feita pra apanhar!<br/>Ela é boa de cuspir!<br/>Ela dá pra qualquer um!<br/>Maldita Geni!</p><p>Um dia surgiu, brilhante<br/>Entre as nuvens, flutuante<br/>Um enorme zepelim<br/>Pairou sobre os edifícios<br/>Abriu dois mil orifícios<br/>Com dois mil canhões assim</p><p>A cidade apavorada<br/>Se quedou paralisada<br/>Pronta pra virar geleia<br/>Mas do zepelim gigante<br/>Desceu o seu comandante<br/>Dizendo: \"Mudei de ideia!\"</p><p>Quando vi nesta cidade<br/>Tanto horror e iniquidade<br/>Resolvi tudo explodir<br/>Mas posso evitar o drama<br/>Se aquela formosa dama<br/>Esta noite me servir</p><p>Essa dama era Geni!<br/>Mas não pode ser Geni!<br/>Ela é feita pra apanhar<br/>Ela é boa de cuspir<br/>Ela dá pra qualquer um<br/>Maldita Geni!</p><p>Mas de fato, logo ela<br/>Tão coitada e tão singela<br/>Cativara o forasteiro<br/>O guerreiro tão vistoso<br/>Tão temido e poderoso<br/>Era dela, prisioneiro</p><p>Acontece que a donzela<br/>(E isso era segredo dela)<br/>Também tinha seus caprichos<br/>E ao deitar com homem tão nobre<br/>Tão cheirando a brilho e a cobre<br/>Preferia amar com os bichos</p><p>Ao ouvir tal heresia<br/>A cidade em romaria<br/>Foi beijar a sua mão<br/>O prefeito de joelhos<br/>O bispo de olhos vermelhos<br/>E o banqueiro com um milhão</p><p>Vai com ele, vai, Geni!<br/>Vai com ele, vai, Geni!<br/>Você pode nos salvar<br/>Você vai nos redimir<br/>Você dá pra qualquer um<br/>Bendita Geni!</p><p>Foram tantos os pedidos<br/>Tão sinceros, tão sentidos<br/>Que ela dominou seu asco<br/>Nessa noite lancinante<br/>Entregou-se a tal amante<br/>Como quem dá-se ao carrasco</p><p>Ele fez tanta sujeira<br/>Lambuzou-se a noite inteira<br/>Até ficar saciado<br/>E nem bem amanhecia<br/>Partiu numa nuvem fria<br/>Com seu zepelim prateado</p><p>Num suspiro aliviado<br/>Ela se virou de lado<br/>E tentou até sorrir<br/>Mas logo raiou o dia<br/>E a cidade em cantoria<br/>Não deixou ela dormir</p><p>Joga pedra na Geni!<br/>Joga bosta na Geni!<br/>Ela é feita pra apanhar!<br/>Ela é boa de cuspir!<br/>Ela dá pra qualquer um!<br/>Maldita Geni!</p><p>Joga pedra na Geni!<br/>Joga bosta na Geni!<br/>Ela é feita pra apanhar!<br/>Ela é boa de cuspir!<br/>Ela dá pra qualquer um!<br/>Maldita Geni!</p> </article> </div>\n",
      "<class 'str'>\n",
      "Chico_Buarque_de_Hollanda_-_Geni_e_o_Zepelim_(1979)'s lyrics saved in /lyrics/Chico_Buarque_de_Hollanda_-_Geni_e_o_Zepelim_(1979).txt file\n",
      "\n"
     ]
    },
    {
     "data": {
      "application/vnd.jupyter.widget-view+json": {
       "model_id": "4cd315fa4f7f426b9cb0eb76bdcddd10",
       "version_major": 2,
       "version_minor": 0
      },
      "text/plain": [
       "A Jupyter Widget"
      ]
     },
     "metadata": {},
     "output_type": "display_data"
    },
    {
     "name": "stdout",
     "output_type": "stream",
     "text": [
      "<div class=\"cnt-letra p402_premium\"> <article> <p>Caía a tarde feito um viaduto<br/>E um bêbado trajando luto<br/>Me lembrou Carlitos<br/>A lua tal qual a dona do bordel<br/>Pedia a cada estrela fria<br/>Um brilho de aluguel</p><p>E nuvens lá no mata-borrão do céu<br/>Chupavam manchas torturadas<br/>Que sufoco!<br/>Louco!<br/>O bêbado com chapéu-coco<br/>Fazia irreverências mil<br/>Pra noite do Brasil<br/>Meu Brasil!</p><p>Que sonha com a volta do irmão do Henfil<br/>Com tanta gente que partiu<br/>Num rabo de foguete<br/>Chora<br/>A nossa Pátria mãe gentil<br/>Choram Marias e Clarisses<br/>No solo do Brasil</p><p>Mas sei que uma dor assim pungente<br/>Não há de ser inutilmente<br/>A esperança<br/>Dança na corda bamba de sombrinha<br/>E em cada passo dessa linha<br/>Pode se machucar</p><p>Azar!<br/>A esperança equilibrista<br/>Sabe que o show de todo artista<br/>Tem que continuar</p> </article> </div>\n",
      "<class 'str'>\n",
      "Elis_Regina_-_O_Bebado_e_a_Equilibrista's lyrics saved in /lyrics/Elis_Regina_-_O_Bebado_e_a_Equilibrista.txt file\n",
      "\n"
     ]
    },
    {
     "data": {
      "application/vnd.jupyter.widget-view+json": {
       "model_id": "d0ab1d4a98bf44d4bd7f11669d5949d0",
       "version_major": 2,
       "version_minor": 0
      },
      "text/plain": [
       "A Jupyter Widget"
      ]
     },
     "metadata": {},
     "output_type": "display_data"
    },
    {
     "name": "stdout",
     "output_type": "stream",
     "text": [
      "<div class=\"cnt-letra p402_premium\"> <article> <p>Vou te contar<br/>Os olhos já não podem ver<br/>Coisas que só o coração pode entender<br/>Fundamental é mesmo o amor<br/>É impossível ser feliz sozinho</p><p>O resto é mar<br/>É tudo que não sei contar<br/>São coisas lindas que eu tenho pra te dar<br/>Vem de mansinho à brisa e me diz<br/>É impossível ser feliz sozinho</p><p>Da primeira vez era a cidade<br/>Da segunda, o cais e a eternidade</p><p>Agora eu já sei<br/>Da onda que se ergueu no mar<br/>E das estrelas que esquecemos de contar<br/>O amor se deixa surpreender<br/>Enquanto a noite vem nos envolver</p><p>Da primeira vez era a cidade<br/>Da segunda, o cais e a eternidade</p><p>Agora eu já sei<br/>Da onda que se ergueu no mar<br/>E das estrelas que esquecemos de contar<br/>O amor se deixa surpreender<br/>Enquanto a noite vem nos envolver</p><p>Vou te contar</p> </article> </div>\n",
      "<class 'str'>\n",
      "Wave's lyrics saved in /lyrics/Wave.txt file\n",
      "\n"
     ]
    },
    {
     "data": {
      "application/vnd.jupyter.widget-view+json": {
       "model_id": "d695d3feea274760984fef8543a594e0",
       "version_major": 2,
       "version_minor": 0
      },
      "text/plain": [
       "A Jupyter Widget"
      ]
     },
     "metadata": {},
     "output_type": "display_data"
    },
    {
     "name": "stdout",
     "output_type": "stream",
     "text": [
      "<div class=\"cnt-letra p402_premium\"> <article> <p>Eis aqui este sambinha feito numa nota só.<br/>Outras notas vão entrar, mas a base é uma só.<br/>Esta outra é conseqüência do que acabo de dizer.<br/>Como eu sou a conseqüência inevitável de você.<br/>Quanta gente existe por aí que fala tanto e não diz nada,<br/>Ou quase nada.<br/>Já me utilizei de toda a escala e no final não sobrou nada,<br/>Não deu em nada.<br/>E voltei pra minha nota como eu volto pra você.<br/>Vou contar com uma nota como eu gosto de você.<br/>E quem quer todas as notas: ré, mi, fá, sol, lá, si, dó.<br/>Fica sempre sem nenhuma, fique numa nota só.</p> </article> </div>\n",
      "<class 'str'>\n",
      "Samba_de_Uma_Nota_So's lyrics saved in /lyrics/Samba_de_Uma_Nota_So.txt file\n",
      "\n"
     ]
    },
    {
     "data": {
      "application/vnd.jupyter.widget-view+json": {
       "model_id": "f0aafed50f81486b802a8b1e7da430d3",
       "version_major": 2,
       "version_minor": 0
      },
      "text/plain": [
       "A Jupyter Widget"
      ]
     },
     "metadata": {},
     "output_type": "display_data"
    },
    {
     "name": "stdout",
     "output_type": "stream",
     "text": [
      "<div class=\"cnt-letra p402_premium\"> <article> <p>É pau, é pedra, é o fim do caminho<br/>É um resto de toco, é um pouco sozinho<br/>É um caco de vidro, é a vida, é o sol<br/>É a noite, é a morte, é o laço, é o anzol<br/>É peroba do campo, é o nó da madeira<br/>Caingá, candeia, é o Matita Pereira<br/>É madeira de vento, tombo da ribanceira<br/>É o mistério profundo, é o queira ou não queira</p><p>É o vento ventando, é o fim da ladeira<br/>É a viga, é o vão, festa da cumeeira<br/>É a chuva chovendo, é conversa ribeira<br/>Das águas de março, é o fim da canseira<br/>É o pé, é o chão, é a marcha estradeira<br/>Passarinho na mão, pedra de atiradeira<br/>É uma ave no céu, é uma ave no chão<br/>É um regato, é uma fonte, é um pedaço de pão</p><p>É o fundo do poço, é o fim do caminho<br/>No rosto, o desgosto, é um pouco sozinho<br/>É um estrepe, é um prego, é uma ponta, é um ponto<br/>É um pingo pingando, é uma conta, é um conto<br/>É um peixe, é um gesto, é uma prata brilhando<br/>É a luz da manhã, é o tijolo chegando<br/>É a lenha, é o dia, é o fim da picada<br/>É a garrafa de cana, o estilhaço na estrada</p><p>É o projeto da casa, é o corpo na cama<br/>É o carro enguiçado, é a lama, é a lama<br/>É um passo, é uma ponte, é um sapo, é uma rã<br/>É um resto de mato, na luz da manhã<br/>São as águas de março fechando o verão<br/>É a promessa de vida no teu coração</p><p>É uma cobra, é um pau, é João, é José<br/>É um espinho na mão, é um corte no pé<br/>São as águas de março fechando o verão<br/>É a promessa de vida no teu coração</p><p>É pau, é pedra, é o fim do caminho<br/>É um resto de toco, é um pouco sozinho<br/>É um passo, é uma ponte, é um sapo, é uma rã<br/>É um belo horizonte, é uma febre terçã<br/>São as águas de março fechando o verão<br/>É a promessa de vida no teu coração</p><p>Au, edra, im, minho<br/>Esto, oco, ouco, inho<br/>Aco, idro, ida, ol, oite, orte, aço, zol<br/>São as águas de março fechando o verão<br/>É a promessa de vida no teu coração</p> </article> </div>\n",
      "<class 'str'>\n",
      "aguas_de_Marco's lyrics saved in /lyrics/aguas_de_Marco.txt file\n",
      "\n"
     ]
    },
    {
     "data": {
      "application/vnd.jupyter.widget-view+json": {
       "model_id": "00c4d0465e424ca1b54217782d21cb22",
       "version_major": 2,
       "version_minor": 0
      },
      "text/plain": [
       "A Jupyter Widget"
      ]
     },
     "metadata": {},
     "output_type": "display_data"
    },
    {
     "name": "stdout",
     "output_type": "stream",
     "text": [
      "<div class=\"cnt-letra p402_premium\"> <article> <p>Madalena<br/>O meu peito percebeu<br/>Que o mar é uma gota<br/>Comparado ao pranto meu.</p><p>Fique certa<br/>Quando o nosso amor desperta<br/>Logo o sol se desespera<br/>E se esconde lá na serra.</p><p>Madalena<br/>O que é meu não se divide<br/>Nem tão pouco se admite<br/>Quem do nosso amor duvide.</p><p>Até a lua se arrisca num palpite<br/>Que o nosso amor existe<br/>Forte ou fraco alegre ou triste.</p> </article> </div>\n",
      "<class 'str'>\n",
      "Elis_Regina_-_Madalena's lyrics saved in /lyrics/Elis_Regina_-_Madalena.txt file\n",
      "\n"
     ]
    },
    {
     "data": {
      "application/vnd.jupyter.widget-view+json": {
       "model_id": "86dc21659706415f907249aa17d6cb0e",
       "version_major": 2,
       "version_minor": 0
      },
      "text/plain": [
       "A Jupyter Widget"
      ]
     },
     "metadata": {},
     "output_type": "display_data"
    },
    {
     "name": "stdout",
     "output_type": "stream",
     "text": [
      "<div class=\"cnt-letra p402_premium\"> <article> <p>Olha que coisa mais linda<br/>Mais cheia de graça<br/>É ela, menina<br/>Que vem e que passa<br/>Num doce balanço<br/>A caminho do mar</p><p>Moça do corpo dourado<br/>Do sol de Ipanema<br/>O seu balançado é mais que um poema<br/>É a coisa mais linda que eu já vi passar</p><p>Ah, por que estou tão sozinho?<br/>Ah, por que tudo é tão triste?<br/>Ah, a beleza que existe<br/>A beleza que não é só minha<br/>Que também passa sozinha</p><p>Ah, se ela soubesse<br/>Que quando ela passa<br/>O mundo inteirinho se enche de graça<br/>E fica mais lindo<br/>Por causa do amor</p> </article> </div>\n",
      "<class 'str'>\n",
      "Garota_de_Ipanema's lyrics saved in /lyrics/Garota_de_Ipanema.txt file\n",
      "\n"
     ]
    },
    {
     "data": {
      "application/vnd.jupyter.widget-view+json": {
       "model_id": "cbf73b01d54d40648a1a2a548998cf1e",
       "version_major": 2,
       "version_minor": 0
      },
      "text/plain": [
       "A Jupyter Widget"
      ]
     },
     "metadata": {},
     "output_type": "display_data"
    },
    {
     "name": "stdout",
     "output_type": "stream",
     "text": [
      "<div class=\"cnt-letra p402_premium\"> <article> <p>Eparrê<br/>Aroeira beira de mar<br/>Canôa Salve Deus e Tiago e Humaitá<br/>Eta, costão de pedra dos home brabo do mar<br/>Eh, Xangô, vê se me ajuda a chegar</p><p>Minha alma canta<br/>Vejo o Rio de Janeiro<br/>Estou morrendo de saudades<br/>Rio, seu mar<br/>Praia sem fim<br/>Rio, você foi feito prá mim<br/>Cristo Redentor<br/>Braços abertos sobre a Guanabara<br/>Este samba é só porque<br/>Rio, eu gosto de você<br/>A morena vai sambar<br/>Seu corpo todo balançar<br/>Rio de sol, de céu, de mar<br/>Dentro de mais um minuto estaremos no Galeão<br/>Copacabana, Copacabana</p><p>Cristo Redentor<br/>Braços abertos sobre a Guanabara<br/>Este samba é só porque<br/>Rio, eu gosto de você<br/>A morena vai sambar<br/>Seu corpo todo balançar<br/>Aperte o cinto, vamos chegar<br/>Água brilhando, olha a pista chegando<br/>E vamos nós<br/>Pousar...</p> </article> </div>\n",
      "<class 'str'>\n",
      "Samba_do_Aviao's lyrics saved in /lyrics/Samba_do_Aviao.txt file\n",
      "\n"
     ]
    },
    {
     "data": {
      "application/vnd.jupyter.widget-view+json": {
       "model_id": "b0df5f6ad63f41a4b8ca442aa5a3eba5",
       "version_major": 2,
       "version_minor": 0
      },
      "text/plain": [
       "A Jupyter Widget"
      ]
     },
     "metadata": {},
     "output_type": "display_data"
    },
    {
     "name": "stdout",
     "output_type": "stream",
     "text": [
      "<div class=\"cnt-letra p402_premium\"> <article> <p>Rosa, Morena!<br/>Onde vais Morena Rosa?<br/>Com essa rosa no cabelo<br/>E esse andar de moça prosa<br/>Morena, Morena Rosa...</p><p>Oh! Rosa, Morena!<br/>Onde vais Morena Rosa?<br/>Com essa rosa no cabelo<br/>E esse andar de moça prosa<br/>Morena, Morena Rosa...</p><p>Rosa Morena<br/>O samba está esperando<br/>Esperando prá te ver<br/>Deixa de lado<br/>Esta coisa de dengosa<br/>Anda Rosa, vem me ver...</p><p>Deixa da lado esta pose<br/>Vem pro samba, vem sambar<br/>Que o pessoal tá cansado<br/>De esperar<br/>Ô Rosa!<br/>Que o pessoal tá cansado<br/>De esperar<br/>Morena Rosa!<br/>Que o pessoal tá cansado<br/>De esperar<br/>Viu Rosa!<br/>Que o pessoal tá cansado<br/>De esperar...</p> </article> </div>\n",
      "<class 'str'>\n",
      "Gilberto_Gil_-_Rosa_Morena's lyrics saved in /lyrics/Gilberto_Gil_-_Rosa_Morena.txt file\n",
      "\n"
     ]
    },
    {
     "data": {
      "application/vnd.jupyter.widget-view+json": {
       "model_id": "5414fdd80e5e4195bdecdfb270fbe24b",
       "version_major": 2,
       "version_minor": 0
      },
      "text/plain": [
       "A Jupyter Widget"
      ]
     },
     "metadata": {},
     "output_type": "display_data"
    },
    {
     "name": "stdout",
     "output_type": "stream",
     "text": [
      "<div class=\"cnt-letra p402_premium\"> <article> <p>Ela é carioca<br/>Ela é carioca</p><p>Basta o jeitinho dela andar<br/>Nem ninguém tem carinho assim para dar<br/>Eu vejo na cor dos seus olhos<br/>As noites do Rio ao luar</p><p>Vejo a mesma luz<br/>Vejo o mesmo céu<br/>Vejo o mesmo mar</p><p>Ela é meu amor, só me vê a mim<br/>A mim que vivi para encontrar</p><p>Na luz do seu olhar<br/>A paz que sonhei</p><p>Só sei que sou louco por ela<br/>E pra mim ela é linda demais<br/>E além do mais</p><p>Ela é carioca<br/>Ela é carioca</p><p>Só sei que sou louco por ela<br/>E pra mim ela é linda demais<br/>E além do mais</p><p>Ela é carioca<br/>Ela é carioca</p> </article> </div>\n",
      "<class 'str'>\n",
      "Joao_Gilberto_-_Ela_e_Carioca's lyrics saved in /lyrics/Joao_Gilberto_-_Ela_e_Carioca.txt file\n",
      "\n"
     ]
    },
    {
     "data": {
      "application/vnd.jupyter.widget-view+json": {
       "model_id": "d8f4f283f84f4d6abb7108aa87b5fd0d",
       "version_major": 2,
       "version_minor": 0
      },
      "text/plain": [
       "A Jupyter Widget"
      ]
     },
     "metadata": {},
     "output_type": "display_data"
    },
    {
     "name": "stdout",
     "output_type": "stream",
     "text": [
      "<div class=\"cnt-letra p402_premium\"> <article> <p>Dia de luz,<br/>festa de sol<br/>e o barquinho a deslizar<br/>no macio azul do mar.<br/>tudo é verão,<br/>o amor se faz<br/>num barquinho pelo mar,<br/>que desliza sem parar,<br/>sem intenção, nossa canção<br/>vai saindo desse mar<br/>e o sol beija o barco e luz,<br/>dias tão azuis.</p><p>Volta do mar,<br/>desmaia o sol<br/>e o barquinho a deslizar.<br/>a vontade de cantar<br/>Céu tão azul,<br/>ilhas do sul<br/>e o barquinho é um coração<br/>deslizando na canção.<br/>Tudo isso é paz,<br/>tudo isso traz<br/>uma calma de verão e então<br/>o barquinho vai,<br/>a tardinha cai,<br/>o barquinho vai.</p> </article> </div>\n",
      "<class 'str'>\n",
      "Joao_Gilberto_-_O_Barquinho's lyrics saved in /lyrics/Joao_Gilberto_-_O_Barquinho.txt file\n",
      "\n"
     ]
    },
    {
     "data": {
      "application/vnd.jupyter.widget-view+json": {
       "model_id": "967f6eccf4ae49ef8a7ba4bbcbad754a",
       "version_major": 2,
       "version_minor": 0
      },
      "text/plain": [
       "A Jupyter Widget"
      ]
     },
     "metadata": {},
     "output_type": "display_data"
    },
    {
     "name": "stdout",
     "output_type": "stream",
     "text": [
      "<div class=\"cnt-letra p402_premium\"> <article> <p>Podem me chamar e me pedir e me rogar<br/>E podem mesmo falar mal, ficar de mal que não faz mal<br/>Podem preparar milhões de festas ao luar<br/>Que Eu não vou ir, melhor nem pedir, que eu não vou ir, não quero ir!<br/>E também podem me intrigar e até sorrir e até chorar<br/>E podem mesmo imaginar o que melhor lhes parecer<br/>Podem espalhar que estou cansado de viver<br/>E que é uma pena para quem me conheceu<br/>Eu sou mais você e eu<br/>Podem espalhar que estou cansado de viver<br/>E que é uma pena para quem me conheceu<br/>Eu sou mais você e eu</p> </article> </div>\n",
      "<class 'str'>\n",
      "Voce_E_Eu_Nara_Leao's lyrics saved in /lyrics/Voce_E_Eu_Nara_Leao.txt file\n",
      "\n"
     ]
    },
    {
     "data": {
      "application/vnd.jupyter.widget-view+json": {
       "model_id": "32fc346414bc4bc3a4234cda900b7bd9",
       "version_major": 2,
       "version_minor": 0
      },
      "text/plain": [
       "A Jupyter Widget"
      ]
     },
     "metadata": {},
     "output_type": "display_data"
    },
    {
     "name": "stdout",
     "output_type": "stream",
     "text": [
      "Sergio_Mendes_+_Brasil_66_-_Mas_Que_Nada's lyrics not found\n",
      "\n"
     ]
    },
    {
     "data": {
      "application/vnd.jupyter.widget-view+json": {
       "model_id": "0d166f5e084c4d49841972e8ce2d507a",
       "version_major": 2,
       "version_minor": 0
      },
      "text/plain": [
       "A Jupyter Widget"
      ]
     },
     "metadata": {},
     "output_type": "display_data"
    },
    {
     "name": "stdout",
     "output_type": "stream",
     "text": [
      "<div class=\"cnt-letra p402_premium\"> <article> <p>Meu poeta eu hoje estou contente<br/>Todo mundo de repente ficou lindo<br/>Ficou lindo de morrer<br/>Eu hoje estou me rindo<br/>Nem eu mesma sei de que<br/>Porque eu recebi<br/>Uma cartinhazinha de você</p><p>Se você quer ser minha namorada<br/>Ai que linda namorada<br/>Você poderia ser<br/>Se quiser ser somente minha<br/>Exatamente essa coisinha<br/>Essa coisa toda minha<br/>Que ninguém mais pode ter<br/>Você tem que me fazer<br/>Um juramento<br/>De só ter um pensamento<br/>Ser só minha até morrer<br/>E também de não perder esse jeitinho<br/>De falar devagarinho<br/>Essas histórias de você<br/>E de repente me fazer muito carinho<br/>E chorar bem de mansinho<br/>Sem ninguém saber porque</p><p>E se mais do que minha namorada<br/>Você quer ser minha amada<br/>Minha amada, mas amada pra valer<br/>Aquela amada pelo amor predestinada<br/>Sem a qual a vida é nada<br/>Sem a qual se quer morrer<br/>Você tem que vir comigo<br/>Em meu caminho<br/>E talvez o meu caminho<br/>Seja triste pra você<br/>Os seus olhos tem que ser só dos meus olhos<br/>E os seus braços o meu ninho<br/>No silêncio de depois<br/>E você tem de ser a estrela derradeira<br/>Minha amiga e companheira<br/>No infinito de nós dois</p> </article> </div>\n",
      "<class 'str'>\n",
      "Minha_Namorada_-_Miucha_e_Vinicius_de_Moraes's lyrics saved in /lyrics/Minha_Namorada_-_Miucha_e_Vinicius_de_Moraes.txt file\n",
      "\n"
     ]
    },
    {
     "data": {
      "application/vnd.jupyter.widget-view+json": {
       "model_id": "351b2b305a09424c928ed591c20187ca",
       "version_major": 2,
       "version_minor": 0
      },
      "text/plain": [
       "A Jupyter Widget"
      ]
     },
     "metadata": {},
     "output_type": "display_data"
    },
    {
     "name": "stdout",
     "output_type": "stream",
     "text": [
      "<div class=\"cnt-letra p402_premium\"> <article> <p>Um velho calção de banho<br/>O dia pra vadiar<br/>Um mar que não tem tamanho<br/>E um arco-íris no ar</p><p>Depois na praça Caymmi<br/>Sentir preguiça no corpo<br/>E numa esteira de vime<br/>Beber uma água de coco</p><p>É bom<br/>Passar uma tarde em Itapuã<br/>Ao sol que arde em Itapuã<br/>Ouvindo o mar de Itapuã<br/>Falar de amor em Itapuã</p><p>Passar uma tarde em Itapuã<br/>Ao sol que arde em Itapuã<br/>Ouvindo o mar de Itapuã<br/>Falar de amor em Itapuã</p><p>Enquanto o mar inaugura<br/>Um verde novinho em folha<br/>Argumentar com doçura<br/>Com uma cachaça de rolha</p><p>E com o olhar esquecido<br/>No encontro de céu e mar<br/>Bem devagar ir sentindo<br/>A terra toda a rodar</p><p>É bom<br/>Passar uma tarde em Itapuã<br/>Ao sol que arde em Itapuã<br/>Ouvindo o mar de Itapuã<br/>Falar de amor em Itapuã</p><p>Passar uma tarde em Itapuã<br/>Ao sol que arde em Itapuã<br/>Ouvindo o mar de Itapuã<br/>Falar de amor em Itapuã</p><p>Depois sentir o arrepio<br/>Do vento que a noite traz<br/>E o diz-que-diz-que macio<br/>Que brota dos coqueirais</p><p>E nos espaços serenos<br/>Sem ontem nem amanhã<br/>Dormir nos braços morenos<br/>Da lua de Itapuã</p><p>É bom<br/>Passar uma tarde em Itapuã<br/>Ao sol que arde em Itapuã<br/>Ouvindo o mar de Itapuã<br/>Falar de amor em Itapuã</p><p>Passar uma tarde em Itapuã<br/>Ao sol que arde em Itapuã<br/>Ouvindo o mar de Itapuã<br/>Falar de amor em Itapuã</p><p>Passar uma tarde em Itapuã<br/>Ao sol que arde em Itapuã<br/>Ouvindo o mar de Itapuã<br/>Falar de amor em Itapuã</p><p>Passar uma tarde em Itapuã<br/>Ao sol que arde em Itapuã<br/>Ouvindo o mar de Itapuã<br/>Falar de amor em Itapuã</p> </article> </div>\n",
      "<class 'str'>\n",
      "Tarde_em_Itapoa_-_Vinicius_e_Toquinho's lyrics saved in /lyrics/Tarde_em_Itapoa_-_Vinicius_e_Toquinho.txt file\n",
      "\n"
     ]
    },
    {
     "data": {
      "application/vnd.jupyter.widget-view+json": {
       "model_id": "dd6bfb10bdfe418f86d04e9c52339f91",
       "version_major": 2,
       "version_minor": 0
      },
      "text/plain": [
       "A Jupyter Widget"
      ]
     },
     "metadata": {},
     "output_type": "display_data"
    },
    {
     "name": "stdout",
     "output_type": "stream",
     "text": [
      "<div class=\"cnt-letra p402_premium\"> <article> <p>Depois de trabalhar toda a semana<br/>Meu sábado não vou desperdiçar<br/>Já fiz o meu programa pra esta noite<br/>E sei por onde começar</p><p>Um bom lugar para encontrar: Copacabana<br/>Prá passear à beira-mar: Copacabana<br/>Depois num bar à meia-luz: Copacabana<br/>Eu esperei por essa noite uma semana</p><p>Um bom jantar depois de dançar: Copacabana<br/>Um só lugar para se amar: Copacabana<br/>A noite passa tão depressa, mas vou voltar se pra semana<br/>Eu encontrar um novo amor: Copacabana</p> </article> </div>\n",
      "<class 'str'>\n",
      "Sabado_em_Copacabana's lyrics saved in /lyrics/Sabado_em_Copacabana.txt file\n",
      "\n"
     ]
    },
    {
     "data": {
      "application/vnd.jupyter.widget-view+json": {
       "model_id": "d23ab26904d54aaba343a6d0fc5c9b59",
       "version_major": 2,
       "version_minor": 0
      },
      "text/plain": [
       "A Jupyter Widget"
      ]
     },
     "metadata": {},
     "output_type": "display_data"
    },
    {
     "name": "stdout",
     "output_type": "stream",
     "text": [
      "<div class=\"cnt-letra p402_premium\"> <article> <p>Pobre samba meu<br/>Foi se misturando se modernizando, e se perdeu<br/>E o rebolado cadê?, não tem mais<br/>Cadê o tal gingado que mexe com a gente<br/>Coitado do meu samba mudou de repente<br/>Influência do jazz</p><p>Quase que morreu<br/>E acaba morrendo, está quase morrendo, não percebeu<br/>Que o samba balança de um lado pro outro<br/>O jazz é diferente, pra frente pra trás<br/>E o samba meio morto ficou meio torto<br/>Influência do jazz</p><p>No afro-cubano, vai complicando<br/>Vai pelo cano, vai<br/>Vai entortando, vai sem descanso<br/>Vai, sai, cai... no balanço!</p><p>Pobre samba meu<br/>Volta lá pro morro e pede socorro onde nasceu<br/>Pra não ser um samba com notas demais<br/>Não ser um samba torto pra frente pra trás<br/>Vai ter que se virar pra poder se livrar<br/>Da influência do jazz</p> </article> </div>\n",
      "<class 'str'>\n",
      "Carlos_Lyra_-_Influencia_do_Jazz's lyrics saved in /lyrics/Carlos_Lyra_-_Influencia_do_Jazz.txt file\n",
      "\n"
     ]
    },
    {
     "data": {
      "application/vnd.jupyter.widget-view+json": {
       "model_id": "b914cdeaf11844dabd17038d7c96d2f4",
       "version_major": 2,
       "version_minor": 0
      },
      "text/plain": [
       "A Jupyter Widget"
      ]
     },
     "metadata": {},
     "output_type": "display_data"
    },
    {
     "name": "stdout",
     "output_type": "stream",
     "text": [
      "<div class=\"cnt-letra p402_premium\"> <article> <p>Você viu só que amor nunca vi coisa assim<br/>E passou nem parou mas olhou só pra mim<br/>Se voltar vou atrás vou perdir vou falar<br/>Vou contar que o amor foi feitinho pra dar<br/>Olha é como o verão quente o coração<br/>Salta de repente para ver a menina que vem</p><p>Ela vem sempre tem esse mar no olhar<br/>E vai ver tem que ser nunca tem quem amar<br/>Hoje sim diz que sim já cansei de esperar<br/>Nem parei nem dormi só pensando em me dar<br/>Peço mas você não vem bem<br/>Deixo então falo só digo ao céu mas você vem</p> </article> </div>\n",
      "<class 'str'>\n",
      "Marcos_Valle_-_Samba_de_verao's lyrics saved in /lyrics/Marcos_Valle_-_Samba_de_verao.txt file\n",
      "\n"
     ]
    },
    {
     "data": {
      "application/vnd.jupyter.widget-view+json": {
       "model_id": "83c3fa8a3f114a3286ec6f6c95d4b89b",
       "version_major": 2,
       "version_minor": 0
      },
      "text/plain": [
       "A Jupyter Widget"
      ]
     },
     "metadata": {},
     "output_type": "display_data"
    },
    {
     "name": "stdout",
     "output_type": "stream",
     "text": [
      "<div class=\"cnt-letra p402_premium\"> <article> <p>Só danço samba<br/>Só danço samba, vai, vai, vai, vai, vai<br/>Só danço samba<br/>Só danço samba, vai<br/>Só danço samba<br/>Só danço samba, vai, vai, vai, vai, vai<br/>Só danço samba<br/>Só danço samba, vai</p><p>Já dancei o twist até  demais<br/>Mas não sei<br/>Me cansei<br/>Do calipso ao chá  chá chá</p><p>Só danço samba<br/>Só danço samba, vai, vai, vai, vai, vai<br/>Só danço samba<br/>Só danço samba, vai</p><p>Só danço samba<br/>Só danço samba, vai<br/>Só danço samba<br/>Só danço samba, vai</p> </article> </div>\n",
      "<class 'str'>\n",
      "Antonio_Carlos_Jobim_-_So_Danco_Samba's lyrics saved in /lyrics/Antonio_Carlos_Jobim_-_So_Danco_Samba.txt file\n",
      "\n"
     ]
    },
    {
     "data": {
      "application/vnd.jupyter.widget-view+json": {
       "model_id": "b9e4bfae6f434a8e8b4be847e73cb223",
       "version_major": 2,
       "version_minor": 0
      },
      "text/plain": [
       "A Jupyter Widget"
      ]
     },
     "metadata": {},
     "output_type": "display_data"
    },
    {
     "name": "stdout",
     "output_type": "stream",
     "text": [
      "<div class=\"cnt-letra p402_premium\"> <article> <p>Era uma vez um Lobo Mau<br/>Que resolveu jantar alguém<br/>Estava sem vintém<br/>Mas arriscou<br/>E logo se estrepou...</p><p>Um chapeuzinho de maiô<br/>Ouviu buzina e não parou<br/>Mas Lobo Mau insiste<br/>E faz cara de triste<br/>Mas chapeuzinho ouviu<br/>Os conselhos da vovó<br/>Dizer que não prá lobo<br/>Que com lobo não sai só...</p><p>Lobo canta, pede<br/>Promete tudo, até amor<br/>E diz que fraco de lobo<br/>É ver um chapeuzinho de maiô...</p><p>Mas chapeuzinho percebeu<br/>Que o Lobo Mau se derreteu<br/>Prá ver você que lobo<br/>Também faz papel de bobo...</p><p>Só posso lhe dizer<br/>Chapeuzinho agora traz<br/>O Lobo na coleira<br/>Que não janta nunca mais...</p><p>Lobo Bobo...Huuuumm!</p> </article> </div>\n",
      "<class 'str'>\n",
      "Joao_Gilberto_-_Lobo_Bobo's lyrics saved in /lyrics/Joao_Gilberto_-_Lobo_Bobo.txt file\n",
      "\n"
     ]
    },
    {
     "data": {
      "application/vnd.jupyter.widget-view+json": {
       "model_id": "952aacd47a6b4ed0af946137146d4e69",
       "version_major": 2,
       "version_minor": 0
      },
      "text/plain": [
       "A Jupyter Widget"
      ]
     },
     "metadata": {},
     "output_type": "display_data"
    },
    {
     "name": "stdout",
     "output_type": "stream",
     "text": [
      "<div class=\"cnt-letra p402_premium\"> <article> <p>Lá fora está chovendo<br/>Mas assim mesmo eu vou correndo<br/>Só prá ver o meu amor<br/>pois Ela vem toda de branco<br/>Toda molhada linda e despenteada, que maravilha<br/>Que coisa linda que é o meu amor<br/>Por entre bancários, jatomóveis, ruas e avenidas<br/>Milhões de buzinas tocando minha harmonia sem cessar<br/>Ela vem chegando de branco, meiga pura linda e muito tímida<br/>Com a chuva molhando o seu corpo lindo<br/>Que eu vou abraçar<br/>E a gente no meio da rua do mundo<br/>No meio da chuva, a girar, que maravilha<br/>A girar, que maravilha<br/>A girar</p> </article> </div>\n",
      "<class 'str'>\n",
      "Jorge_Ben_Jor_-_Que_Maravilha's lyrics saved in /lyrics/Jorge_Ben_Jor_-_Que_Maravilha.txt file\n",
      "\n",
      "\n"
     ]
    }
   ],
   "source": [
    "for name in tqdm_notebook(bossa_Nova_dataset, desc= 'TOTAL'):\n",
    "    #for each track's name we get we replace \"_\" and \"-\" with \"+\" in order to use google's search mechanism\n",
    "    name_search = name.replace(\"_-_\", \"_\").replace(\"_\",\"+\")\n",
    "    #print (name_search)\n",
    "\n",
    "    #now we generate the url and do a request\n",
    "    url = 'http://www.google.com/search?q='+name_search\n",
    "    #print (url)\n",
    "    req = urllib.request.Request(url, headers={'User-Agent' : \"foobar\"})\n",
    "    response = urllib.request.urlopen(req)\n",
    "\n",
    "    #this next line is great to see what's happening but it makes ipython notebook really slow\n",
    "    #print response.read()\n",
    "\n",
    "    name_html = document= BeautifulSoup(response.read(), \"lxml\").get_text()\n",
    "    #print (name_html)\n",
    "\n",
    "    #link start is the string index to see the first character in the url that will be used to fetch the lyric\n",
    "    url_index_start=name_html.find('https://www.letras.mus.br/')\n",
    "\n",
    "    #url index end now shows the artist (27 is the lenght of 'https://www.letras.mus.br/')\n",
    "    url_index_end=name_html.find('/',url_index_start+27)\n",
    "\n",
    "    #now url index end shows the artist and the song number in url router\n",
    "    url_index_end=name_html.find('/',url_index_end+1)\n",
    "\n",
    "    #now name_url show the url that has the music lyric in it\n",
    "    name_url = name_html[url_index_start:url_index_end + 1]\n",
    "    #print (name_url)\n",
    "    \n",
    "    useless_iterable = [1]\n",
    "    \n",
    "    for i in tqdm_notebook(useless_iterable, desc = name):\n",
    "        if name_url == \"\":\n",
    "            print  (name + \"'s lyrics not found\\n\")\n",
    "\n",
    "        else:\n",
    "            #print name_url +\"\\n\"\n",
    "            req = urllib.request.Request(name_url, headers={'User-Agent' : \"foobar\"})\n",
    "            response = urllib.request.urlopen(req)\n",
    "            #lyrics_html contains html with the lyrics in it\n",
    "            lyrics_html = response.read()\n",
    "            #soup is a html parser \n",
    "            soup = BeautifulSoup(lyrics_html, \"lxml\")\n",
    "            #in this part it gets the part with the class tag cnt-letra p402_premium\n",
    "            #this means that it will get the music lyric with all the html tags\n",
    "            for raw_lyrics in (soup.findAll(attrs={\"class\" : \"cnt-letra p402_premium\"})):\n",
    "                lyrics = raw_lyrics\n",
    "                \n",
    "            lyrics = str(lyrics)\n",
    "            print (lyrics)\n",
    "            print(type(lyrics))\n",
    "            #now the final step is to remove all the html tags in the lyric\n",
    "            lyrics = lyrics.replace('<div class=\"cnt-letra p402_premium\"> ', '').replace('</div>', '').replace('<p>', ' ')\n",
    "            lyrics = lyrics.replace('</p>', ' ')\n",
    "            lyrics = lyrics.replace('<article> ', '').replace('</article> ', '').replace('<br>', ' ').replace('<br/>', ' ')\n",
    "            #print lyrics\n",
    "\n",
    "            #and finaly we save it\n",
    "            f = open(\"/home/felipetanios/Documents/NLP/lyrics/\"+name+\".txt\", \"w+\")\n",
    "            f.write(lyrics)\n",
    "            f.close()\n",
    "            print (name + \"'s lyrics saved in /lyrics/\" + name +\".txt file\\n\")"
   ]
  },
  {
   "cell_type": "code",
   "execution_count": null,
   "metadata": {
    "collapsed": true
   },
   "outputs": [],
   "source": []
  }
 ],
 "metadata": {
  "kernelspec": {
   "display_name": "Python 3",
   "language": "python",
   "name": "python3"
  },
  "language_info": {
   "codemirror_mode": {
    "name": "ipython",
    "version": 3
   },
   "file_extension": ".py",
   "mimetype": "text/x-python",
   "name": "python",
   "nbconvert_exporter": "python",
   "pygments_lexer": "ipython3",
   "version": "3.5.2"
  }
 },
 "nbformat": 4,
 "nbformat_minor": 1
}
