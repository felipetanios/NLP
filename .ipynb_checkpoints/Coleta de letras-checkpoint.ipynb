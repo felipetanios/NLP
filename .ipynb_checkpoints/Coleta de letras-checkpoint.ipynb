{
 "cells": [
  {
   "cell_type": "markdown",
   "metadata": {},
   "source": [
    "# Fetching dataset lyrics "
   ]
  },
  {
   "cell_type": "markdown",
   "metadata": {},
   "source": [
    "##     Fist we have to get all the bossa nova track's names in our dataset and then, we have to take out the \".wav\" part of the name"
   ]
  },
  {
   "cell_type": "code",
   "execution_count": 1,
   "metadata": {
    "collapsed": true
   },
   "outputs": [],
   "source": [
    "import csv\n",
    "import urllib\n",
    "from bs4 import BeautifulSoup\n",
    "import codecs\n",
    "from tqdm import tqdm_notebook, tnrange"
   ]
  },
  {
   "cell_type": "code",
   "execution_count": 2,
   "metadata": {},
   "outputs": [
    {
     "name": "stdout",
     "output_type": "stream",
     "text": [
      "['A_Felicidade', 'Calice', 'Elis_Regina_-_Como_Nossos_Pais', 'Elis_Regina_-_Joao_e_Maria', 'Elis_Regina_-_Maria_Maria', 'Elis_Regina_-_Carinhoso_(Meu_Coracao)', 'Milton_Nascimento_-_Travessia', 'Elis_Regina_-_Tristeza', 'eu_nao_existo_sem_voce_-_Maria_Bethania', 'Toquinho_-_Meditacao', 'Soneto_de_Separacao_-_Elis_e_Tom', 'Tom_Jobim_-_Luiza', 'Onde_anda_voce_Toquinho_Vinicius_de_moraes', 'Samba_Em_Preludio_-_Vinicius_de_Moraes_,Maria_Creuza_y_Toquinho', 'Gal_Costa_-_Anos_Dourados', 'Gal_Costa_-_Se_Todos_Fossem_Iguais_A_Voce', 'Chico_Buarque_de_Hollanda_-_Geni_e_o_Zepelim_(1979)', 'Elis_Regina_-_O_Bebado_e_a_Equilibrista', 'Wave', 'Samba_de_Uma_Nota_So', 'aguas_de_Marco', 'Elis_Regina_-_Madalena', 'Garota_de_Ipanema', 'Samba_do_Aviao', 'Gilberto_Gil_-_Rosa_Morena', 'Joao_Gilberto_-_Ela_e_Carioca', 'Joao_Gilberto_-_O_Barquinho', 'Voce_E_Eu_Nara_Leao', 'Sergio_Mendes_+_Brasil_66_-_Mas_Que_Nada', 'Minha_Namorada_-_Miucha_e_Vinicius_de_Moraes', 'Tarde_em_Itapoa_-_Vinicius_e_Toquinho', 'Sabado_em_Copacabana', 'Carlos_Lyra_-_Influencia_do_Jazz', 'Marcos_Valle_-_Samba_de_verao', 'Antonio_Carlos_Jobim_-_So_Danco_Samba', 'Joao_Gilberto_-_Lobo_Bobo', 'Jorge_Ben_Jor_-_Que_Maravilha']\n",
      "37\n"
     ]
    }
   ],
   "source": [
    "dataset_file = '/home/felipetanios/Documents/Iniciação Cientifica/base.csv'\n",
    "bossa_Nova_dataset = []\n",
    "dataset_name = []\n",
    "dataset_genre = []\n",
    "\n",
    "with open (dataset_file, 'r') as f:\n",
    "    reader = csv.reader(f)\n",
    "    for row in reader:\n",
    "        #dataset contains the track's names\n",
    "        dataset_name.append(row[0])\n",
    "        dataset_genre.append(row[1])\n",
    "    for i in range(len(dataset_name)):\n",
    "        if dataset_genre[i] == \"bossa\":\n",
    "            bossa_Nova_dataset.append(dataset_name[i])\n",
    "    \n",
    "for i in range(len(bossa_Nova_dataset)):\n",
    "    bossa_Nova_dataset[i] = bossa_Nova_dataset[i][:-4]\n",
    "print (bossa_Nova_dataset)\n",
    "print (len(bossa_Nova_dataset))"
   ]
  },
  {
   "cell_type": "markdown",
   "metadata": {},
   "source": [
    "## Now we have to fetch all the lyrics. To do this, we will use a internet database and urllib2 in python"
   ]
  },
  {
   "cell_type": "code",
   "execution_count": 9,
   "metadata": {},
   "outputs": [
    {
     "data": {
      "application/vnd.jupyter.widget-view+json": {
       "model_id": "fd09029f2c974840bdeb10f4dc309d43",
       "version_major": 2,
       "version_minor": 0
      },
      "text/plain": [
       "A Jupyter Widget"
      ]
     },
     "metadata": {},
     "output_type": "display_data"
    },
    {
     "data": {
      "application/vnd.jupyter.widget-view+json": {
       "model_id": "dbaa01577dbe4df2ac5c399e3621e2e3",
       "version_major": 2,
       "version_minor": 0
      },
      "text/plain": [
       "A Jupyter Widget"
      ]
     },
     "metadata": {},
     "output_type": "display_data"
    },
    {
     "name": "stdout",
     "output_type": "stream",
     "text": [
      "A_Felicidade's lyrics saved in /lyrics/A_Felicidade.txt file\n",
      "\n"
     ]
    },
    {
     "data": {
      "application/vnd.jupyter.widget-view+json": {
       "model_id": "8df66dfe388a4cce9b231e5232e4a915",
       "version_major": 2,
       "version_minor": 0
      },
      "text/plain": [
       "A Jupyter Widget"
      ]
     },
     "metadata": {},
     "output_type": "display_data"
    },
    {
     "name": "stdout",
     "output_type": "stream",
     "text": [
      "Calice's lyrics saved in /lyrics/Calice.txt file\n",
      "\n"
     ]
    },
    {
     "data": {
      "application/vnd.jupyter.widget-view+json": {
       "model_id": "c56c958856f64ea5bc840d7c3457767f",
       "version_major": 2,
       "version_minor": 0
      },
      "text/plain": [
       "A Jupyter Widget"
      ]
     },
     "metadata": {},
     "output_type": "display_data"
    },
    {
     "name": "stdout",
     "output_type": "stream",
     "text": [
      "Elis_Regina_-_Como_Nossos_Pais's lyrics saved in /lyrics/Elis_Regina_-_Como_Nossos_Pais.txt file\n",
      "\n"
     ]
    },
    {
     "data": {
      "application/vnd.jupyter.widget-view+json": {
       "model_id": "1bee2dd6b1cc43b683a67d366648bf67",
       "version_major": 2,
       "version_minor": 0
      },
      "text/plain": [
       "A Jupyter Widget"
      ]
     },
     "metadata": {},
     "output_type": "display_data"
    },
    {
     "name": "stdout",
     "output_type": "stream",
     "text": [
      "Elis_Regina_-_Joao_e_Maria's lyrics saved in /lyrics/Elis_Regina_-_Joao_e_Maria.txt file\n",
      "\n"
     ]
    },
    {
     "data": {
      "application/vnd.jupyter.widget-view+json": {
       "model_id": "5745356a9831430c8b0d515e04135200",
       "version_major": 2,
       "version_minor": 0
      },
      "text/plain": [
       "A Jupyter Widget"
      ]
     },
     "metadata": {},
     "output_type": "display_data"
    },
    {
     "name": "stdout",
     "output_type": "stream",
     "text": [
      "Elis_Regina_-_Maria_Maria's lyrics saved in /lyrics/Elis_Regina_-_Maria_Maria.txt file\n",
      "\n"
     ]
    },
    {
     "data": {
      "application/vnd.jupyter.widget-view+json": {
       "model_id": "8c5571074c8c46379e0b4256624a4ee5",
       "version_major": 2,
       "version_minor": 0
      },
      "text/plain": [
       "A Jupyter Widget"
      ]
     },
     "metadata": {},
     "output_type": "display_data"
    },
    {
     "name": "stdout",
     "output_type": "stream",
     "text": [
      "Elis_Regina_-_Carinhoso_(Meu_Coracao)'s lyrics saved in /lyrics/Elis_Regina_-_Carinhoso_(Meu_Coracao).txt file\n",
      "\n"
     ]
    },
    {
     "data": {
      "application/vnd.jupyter.widget-view+json": {
       "model_id": "0195ad69b7e341888c637b1435968c41",
       "version_major": 2,
       "version_minor": 0
      },
      "text/plain": [
       "A Jupyter Widget"
      ]
     },
     "metadata": {},
     "output_type": "display_data"
    },
    {
     "name": "stdout",
     "output_type": "stream",
     "text": [
      "Milton_Nascimento_-_Travessia's lyrics saved in /lyrics/Milton_Nascimento_-_Travessia.txt file\n",
      "\n"
     ]
    },
    {
     "data": {
      "application/vnd.jupyter.widget-view+json": {
       "model_id": "66f68fb60a78465c8a8a43a48702a2ee",
       "version_major": 2,
       "version_minor": 0
      },
      "text/plain": [
       "A Jupyter Widget"
      ]
     },
     "metadata": {},
     "output_type": "display_data"
    },
    {
     "name": "stdout",
     "output_type": "stream",
     "text": [
      "Elis_Regina_-_Tristeza's lyrics saved in /lyrics/Elis_Regina_-_Tristeza.txt file\n",
      "\n"
     ]
    },
    {
     "data": {
      "application/vnd.jupyter.widget-view+json": {
       "model_id": "96c3c7e06d6a4ba380560d8df3b399a8",
       "version_major": 2,
       "version_minor": 0
      },
      "text/plain": [
       "A Jupyter Widget"
      ]
     },
     "metadata": {},
     "output_type": "display_data"
    },
    {
     "name": "stdout",
     "output_type": "stream",
     "text": [
      "eu_nao_existo_sem_voce_-_Maria_Bethania's lyrics saved in /lyrics/eu_nao_existo_sem_voce_-_Maria_Bethania.txt file\n",
      "\n"
     ]
    },
    {
     "data": {
      "application/vnd.jupyter.widget-view+json": {
       "model_id": "c67221c260f8431eaad5a285e8478599",
       "version_major": 2,
       "version_minor": 0
      },
      "text/plain": [
       "A Jupyter Widget"
      ]
     },
     "metadata": {},
     "output_type": "display_data"
    },
    {
     "name": "stdout",
     "output_type": "stream",
     "text": [
      "Toquinho_-_Meditacao's lyrics saved in /lyrics/Toquinho_-_Meditacao.txt file\n",
      "\n"
     ]
    },
    {
     "data": {
      "application/vnd.jupyter.widget-view+json": {
       "model_id": "7436666d29494f60abf214ffc2a261a5",
       "version_major": 2,
       "version_minor": 0
      },
      "text/plain": [
       "A Jupyter Widget"
      ]
     },
     "metadata": {},
     "output_type": "display_data"
    },
    {
     "name": "stdout",
     "output_type": "stream",
     "text": [
      "Soneto_de_Separacao_-_Elis_e_Tom's lyrics saved in /lyrics/Soneto_de_Separacao_-_Elis_e_Tom.txt file\n",
      "\n"
     ]
    },
    {
     "data": {
      "application/vnd.jupyter.widget-view+json": {
       "model_id": "359f914071a54498b2f895aaa259d8c2",
       "version_major": 2,
       "version_minor": 0
      },
      "text/plain": [
       "A Jupyter Widget"
      ]
     },
     "metadata": {},
     "output_type": "display_data"
    },
    {
     "name": "stdout",
     "output_type": "stream",
     "text": [
      "Tom_Jobim_-_Luiza's lyrics saved in /lyrics/Tom_Jobim_-_Luiza.txt file\n",
      "\n"
     ]
    },
    {
     "data": {
      "application/vnd.jupyter.widget-view+json": {
       "model_id": "020a6e120b4a4824a0bbb0679062119b",
       "version_major": 2,
       "version_minor": 0
      },
      "text/plain": [
       "A Jupyter Widget"
      ]
     },
     "metadata": {},
     "output_type": "display_data"
    },
    {
     "name": "stdout",
     "output_type": "stream",
     "text": [
      "Onde_anda_voce_Toquinho_Vinicius_de_moraes's lyrics saved in /lyrics/Onde_anda_voce_Toquinho_Vinicius_de_moraes.txt file\n",
      "\n"
     ]
    },
    {
     "data": {
      "application/vnd.jupyter.widget-view+json": {
       "model_id": "8f8c29c48b2c4efbbb1909d0dfc0df21",
       "version_major": 2,
       "version_minor": 0
      },
      "text/plain": [
       "A Jupyter Widget"
      ]
     },
     "metadata": {},
     "output_type": "display_data"
    },
    {
     "name": "stdout",
     "output_type": "stream",
     "text": [
      "Samba_Em_Preludio_-_Vinicius_de_Moraes_,Maria_Creuza_y_Toquinho's lyrics saved in /lyrics/Samba_Em_Preludio_-_Vinicius_de_Moraes_,Maria_Creuza_y_Toquinho.txt file\n",
      "\n"
     ]
    },
    {
     "data": {
      "application/vnd.jupyter.widget-view+json": {
       "model_id": "e36a8eddabc74f58af26b3779181a06b",
       "version_major": 2,
       "version_minor": 0
      },
      "text/plain": [
       "A Jupyter Widget"
      ]
     },
     "metadata": {},
     "output_type": "display_data"
    },
    {
     "name": "stdout",
     "output_type": "stream",
     "text": [
      "Gal_Costa_-_Anos_Dourados's lyrics not found\n",
      "\n"
     ]
    },
    {
     "data": {
      "application/vnd.jupyter.widget-view+json": {
       "model_id": "7e953c1faebd4d2eae94edadec8c27e1",
       "version_major": 2,
       "version_minor": 0
      },
      "text/plain": [
       "A Jupyter Widget"
      ]
     },
     "metadata": {},
     "output_type": "display_data"
    },
    {
     "name": "stdout",
     "output_type": "stream",
     "text": [
      "Gal_Costa_-_Se_Todos_Fossem_Iguais_A_Voce's lyrics not found\n",
      "\n"
     ]
    },
    {
     "data": {
      "application/vnd.jupyter.widget-view+json": {
       "model_id": "3cdf3b36f1ed4fc9855ba83bb7e9f861",
       "version_major": 2,
       "version_minor": 0
      },
      "text/plain": [
       "A Jupyter Widget"
      ]
     },
     "metadata": {},
     "output_type": "display_data"
    },
    {
     "name": "stdout",
     "output_type": "stream",
     "text": [
      "Chico_Buarque_de_Hollanda_-_Geni_e_o_Zepelim_(1979)'s lyrics saved in /lyrics/Chico_Buarque_de_Hollanda_-_Geni_e_o_Zepelim_(1979).txt file\n",
      "\n"
     ]
    },
    {
     "data": {
      "application/vnd.jupyter.widget-view+json": {
       "model_id": "120f06c34cfb4707914c232143001868",
       "version_major": 2,
       "version_minor": 0
      },
      "text/plain": [
       "A Jupyter Widget"
      ]
     },
     "metadata": {},
     "output_type": "display_data"
    },
    {
     "name": "stdout",
     "output_type": "stream",
     "text": [
      "Elis_Regina_-_O_Bebado_e_a_Equilibrista's lyrics saved in /lyrics/Elis_Regina_-_O_Bebado_e_a_Equilibrista.txt file\n",
      "\n"
     ]
    },
    {
     "data": {
      "application/vnd.jupyter.widget-view+json": {
       "model_id": "a06fe1f5aecd4fa7b8846ac09432d7ad",
       "version_major": 2,
       "version_minor": 0
      },
      "text/plain": [
       "A Jupyter Widget"
      ]
     },
     "metadata": {},
     "output_type": "display_data"
    },
    {
     "name": "stdout",
     "output_type": "stream",
     "text": [
      "Wave's lyrics saved in /lyrics/Wave.txt file\n",
      "\n"
     ]
    },
    {
     "data": {
      "application/vnd.jupyter.widget-view+json": {
       "model_id": "2f80cb273ccd4dff8423577c5b4fc7c4",
       "version_major": 2,
       "version_minor": 0
      },
      "text/plain": [
       "A Jupyter Widget"
      ]
     },
     "metadata": {},
     "output_type": "display_data"
    },
    {
     "name": "stdout",
     "output_type": "stream",
     "text": [
      "Samba_de_Uma_Nota_So's lyrics saved in /lyrics/Samba_de_Uma_Nota_So.txt file\n",
      "\n"
     ]
    },
    {
     "data": {
      "application/vnd.jupyter.widget-view+json": {
       "model_id": "92930d6432cf47aa929a2062944c5438",
       "version_major": 2,
       "version_minor": 0
      },
      "text/plain": [
       "A Jupyter Widget"
      ]
     },
     "metadata": {},
     "output_type": "display_data"
    },
    {
     "name": "stdout",
     "output_type": "stream",
     "text": [
      "aguas_de_Marco's lyrics saved in /lyrics/aguas_de_Marco.txt file\n",
      "\n"
     ]
    },
    {
     "data": {
      "application/vnd.jupyter.widget-view+json": {
       "model_id": "84cb865f850c4785aa4b819dc0acd445",
       "version_major": 2,
       "version_minor": 0
      },
      "text/plain": [
       "A Jupyter Widget"
      ]
     },
     "metadata": {},
     "output_type": "display_data"
    },
    {
     "name": "stdout",
     "output_type": "stream",
     "text": [
      "Elis_Regina_-_Madalena's lyrics saved in /lyrics/Elis_Regina_-_Madalena.txt file\n",
      "\n"
     ]
    },
    {
     "data": {
      "application/vnd.jupyter.widget-view+json": {
       "model_id": "8a21f92514f74999b0bcbd6350d60be3",
       "version_major": 2,
       "version_minor": 0
      },
      "text/plain": [
       "A Jupyter Widget"
      ]
     },
     "metadata": {},
     "output_type": "display_data"
    },
    {
     "name": "stdout",
     "output_type": "stream",
     "text": [
      "Garota_de_Ipanema's lyrics saved in /lyrics/Garota_de_Ipanema.txt file\n",
      "\n"
     ]
    },
    {
     "data": {
      "application/vnd.jupyter.widget-view+json": {
       "model_id": "2b2176e1e562449d93181db657b4cc89",
       "version_major": 2,
       "version_minor": 0
      },
      "text/plain": [
       "A Jupyter Widget"
      ]
     },
     "metadata": {},
     "output_type": "display_data"
    },
    {
     "name": "stdout",
     "output_type": "stream",
     "text": [
      "Samba_do_Aviao's lyrics saved in /lyrics/Samba_do_Aviao.txt file\n",
      "\n"
     ]
    },
    {
     "data": {
      "application/vnd.jupyter.widget-view+json": {
       "model_id": "5e48b12eaae74595a894755cb8a77ef2",
       "version_major": 2,
       "version_minor": 0
      },
      "text/plain": [
       "A Jupyter Widget"
      ]
     },
     "metadata": {},
     "output_type": "display_data"
    },
    {
     "name": "stdout",
     "output_type": "stream",
     "text": [
      "Gilberto_Gil_-_Rosa_Morena's lyrics saved in /lyrics/Gilberto_Gil_-_Rosa_Morena.txt file\n",
      "\n"
     ]
    },
    {
     "data": {
      "application/vnd.jupyter.widget-view+json": {
       "model_id": "607bf5f00e6c4387a4bbb55e139bde75",
       "version_major": 2,
       "version_minor": 0
      },
      "text/plain": [
       "A Jupyter Widget"
      ]
     },
     "metadata": {},
     "output_type": "display_data"
    },
    {
     "name": "stdout",
     "output_type": "stream",
     "text": [
      "Joao_Gilberto_-_Ela_e_Carioca's lyrics saved in /lyrics/Joao_Gilberto_-_Ela_e_Carioca.txt file\n",
      "\n"
     ]
    },
    {
     "data": {
      "application/vnd.jupyter.widget-view+json": {
       "model_id": "3639e0d70d904392abe6d7e0598215b4",
       "version_major": 2,
       "version_minor": 0
      },
      "text/plain": [
       "A Jupyter Widget"
      ]
     },
     "metadata": {},
     "output_type": "display_data"
    },
    {
     "name": "stdout",
     "output_type": "stream",
     "text": [
      "Joao_Gilberto_-_O_Barquinho's lyrics saved in /lyrics/Joao_Gilberto_-_O_Barquinho.txt file\n",
      "\n"
     ]
    },
    {
     "data": {
      "application/vnd.jupyter.widget-view+json": {
       "model_id": "51ae671835324c8584b1ee920454b75c",
       "version_major": 2,
       "version_minor": 0
      },
      "text/plain": [
       "A Jupyter Widget"
      ]
     },
     "metadata": {},
     "output_type": "display_data"
    },
    {
     "name": "stdout",
     "output_type": "stream",
     "text": [
      "Voce_E_Eu_Nara_Leao's lyrics saved in /lyrics/Voce_E_Eu_Nara_Leao.txt file\n",
      "\n"
     ]
    },
    {
     "data": {
      "application/vnd.jupyter.widget-view+json": {
       "model_id": "8b8b7e5dacd5455abadf1031fcc57112",
       "version_major": 2,
       "version_minor": 0
      },
      "text/plain": [
       "A Jupyter Widget"
      ]
     },
     "metadata": {},
     "output_type": "display_data"
    },
    {
     "name": "stdout",
     "output_type": "stream",
     "text": [
      "Sergio_Mendes_+_Brasil_66_-_Mas_Que_Nada's lyrics not found\n",
      "\n"
     ]
    },
    {
     "data": {
      "application/vnd.jupyter.widget-view+json": {
       "model_id": "fa534739d9ec438797a4825286f342c1",
       "version_major": 2,
       "version_minor": 0
      },
      "text/plain": [
       "A Jupyter Widget"
      ]
     },
     "metadata": {},
     "output_type": "display_data"
    },
    {
     "name": "stdout",
     "output_type": "stream",
     "text": [
      "Minha_Namorada_-_Miucha_e_Vinicius_de_Moraes's lyrics saved in /lyrics/Minha_Namorada_-_Miucha_e_Vinicius_de_Moraes.txt file\n",
      "\n"
     ]
    },
    {
     "data": {
      "application/vnd.jupyter.widget-view+json": {
       "model_id": "f97205bb4cc24ec4bacf3f8199562232",
       "version_major": 2,
       "version_minor": 0
      },
      "text/plain": [
       "A Jupyter Widget"
      ]
     },
     "metadata": {},
     "output_type": "display_data"
    },
    {
     "name": "stdout",
     "output_type": "stream",
     "text": [
      "Tarde_em_Itapoa_-_Vinicius_e_Toquinho's lyrics saved in /lyrics/Tarde_em_Itapoa_-_Vinicius_e_Toquinho.txt file\n",
      "\n"
     ]
    },
    {
     "data": {
      "application/vnd.jupyter.widget-view+json": {
       "model_id": "f533ec22a91e44a1acdf3fe71886fa5d",
       "version_major": 2,
       "version_minor": 0
      },
      "text/plain": [
       "A Jupyter Widget"
      ]
     },
     "metadata": {},
     "output_type": "display_data"
    },
    {
     "name": "stdout",
     "output_type": "stream",
     "text": [
      "Sabado_em_Copacabana's lyrics saved in /lyrics/Sabado_em_Copacabana.txt file\n",
      "\n"
     ]
    },
    {
     "data": {
      "application/vnd.jupyter.widget-view+json": {
       "model_id": "26ec9c56a1f5499b959bd9b975cc7161",
       "version_major": 2,
       "version_minor": 0
      },
      "text/plain": [
       "A Jupyter Widget"
      ]
     },
     "metadata": {},
     "output_type": "display_data"
    },
    {
     "name": "stdout",
     "output_type": "stream",
     "text": [
      "Carlos_Lyra_-_Influencia_do_Jazz's lyrics saved in /lyrics/Carlos_Lyra_-_Influencia_do_Jazz.txt file\n",
      "\n"
     ]
    },
    {
     "data": {
      "application/vnd.jupyter.widget-view+json": {
       "model_id": "03c32c8b222d4864a1c21e9f27aa4f85",
       "version_major": 2,
       "version_minor": 0
      },
      "text/plain": [
       "A Jupyter Widget"
      ]
     },
     "metadata": {},
     "output_type": "display_data"
    },
    {
     "name": "stdout",
     "output_type": "stream",
     "text": [
      "Marcos_Valle_-_Samba_de_verao's lyrics saved in /lyrics/Marcos_Valle_-_Samba_de_verao.txt file\n",
      "\n"
     ]
    },
    {
     "data": {
      "application/vnd.jupyter.widget-view+json": {
       "model_id": "02a58b364e004799b0d490c6521f2b76",
       "version_major": 2,
       "version_minor": 0
      },
      "text/plain": [
       "A Jupyter Widget"
      ]
     },
     "metadata": {},
     "output_type": "display_data"
    },
    {
     "name": "stdout",
     "output_type": "stream",
     "text": [
      "Antonio_Carlos_Jobim_-_So_Danco_Samba's lyrics saved in /lyrics/Antonio_Carlos_Jobim_-_So_Danco_Samba.txt file\n",
      "\n"
     ]
    },
    {
     "data": {
      "application/vnd.jupyter.widget-view+json": {
       "model_id": "c8e45299f43a4bbd855cb81e2baf1713",
       "version_major": 2,
       "version_minor": 0
      },
      "text/plain": [
       "A Jupyter Widget"
      ]
     },
     "metadata": {},
     "output_type": "display_data"
    },
    {
     "name": "stdout",
     "output_type": "stream",
     "text": [
      "Joao_Gilberto_-_Lobo_Bobo's lyrics saved in /lyrics/Joao_Gilberto_-_Lobo_Bobo.txt file\n",
      "\n"
     ]
    },
    {
     "data": {
      "application/vnd.jupyter.widget-view+json": {
       "model_id": "8d66574bb984410fbd54fe0fac431ede",
       "version_major": 2,
       "version_minor": 0
      },
      "text/plain": [
       "A Jupyter Widget"
      ]
     },
     "metadata": {},
     "output_type": "display_data"
    },
    {
     "name": "stdout",
     "output_type": "stream",
     "text": [
      "Jorge_Ben_Jor_-_Que_Maravilha's lyrics saved in /lyrics/Jorge_Ben_Jor_-_Que_Maravilha.txt file\n",
      "\n",
      "\n"
     ]
    }
   ],
   "source": [
    "for name in tqdm_notebook(bossa_Nova_dataset, desc= 'TOTAL'):\n",
    "    #for each track's name we get we replace \"_\" and \"-\" with \"+\" in order to use google's search mechanism\n",
    "    name_search = name.replace(\"_-_\", \"_\").replace(\"_\",\"+\")\n",
    "    #print (name_search)\n",
    "\n",
    "    #now we generate the url and do a request\n",
    "    url = 'http://www.google.com/search?q='+name_search\n",
    "    #print (url)\n",
    "    req = urllib.request.Request(url, headers={'User-Agent' : \"foobar\"})\n",
    "    response = urllib.request.urlopen(req)\n",
    "\n",
    "    #this next line is great to see what's happening but it makes ipython notebook really slow\n",
    "    #print response.read()\n",
    "\n",
    "    name_html = document= BeautifulSoup(response.read(), \"lxml\").get_text()\n",
    "    #print (name_html)\n",
    "\n",
    "    #link start is the string index to see the first character in the url that will be used to fetch the lyric\n",
    "    url_index_start=name_html.find('https://www.letras.mus.br/')\n",
    "\n",
    "    #url index end now shows the artist (27 is the lenght of 'https://www.letras.mus.br/')\n",
    "    url_index_end=name_html.find('/',url_index_start+27)\n",
    "\n",
    "    #now url index end shows the artist and the song number in url router\n",
    "    url_index_end=name_html.find('/',url_index_end+1)\n",
    "\n",
    "    #now name_url show the url that has the music lyric in it\n",
    "    name_url = name_html[url_index_start:url_index_end + 1]\n",
    "    #print (name_url)\n",
    "    \n",
    "    useless_iterable = [1]\n",
    "    \n",
    "    for i in tqdm_notebook(useless_iterable, desc = name):\n",
    "        if name_url == \"\":\n",
    "            print  (name + \"'s lyrics not found\\n\")\n",
    "\n",
    "        else:\n",
    "            #print name_url +\"\\n\"\n",
    "            req = urllib.request.Request(name_url, headers={'User-Agent' : \"foobar\"})\n",
    "            response = urllib.request.urlopen(req)\n",
    "            #lyrics_html contains html with the lyrics in it\n",
    "            lyrics_html = response.read()\n",
    "            #soup is a html parser \n",
    "            soup = BeautifulSoup(lyrics_html, \"lxml\")\n",
    "            #in this part it gets the part with the class tag cnt-letra p402_premium\n",
    "            #this means that it will get the music lyric with all the html tags\n",
    "            for raw_lyrics in (soup.findAll(attrs={\"class\" : \"cnt-letra p402_premium\"})):\n",
    "                lyrics = raw_lyrics\n",
    "\n",
    "            lyrics = lyrics.get_text()\n",
    "            #now the final step is to remove all the html tags in the lyric\n",
    "            lyrics = lyrics.replace('<div class=\"cnt-letra p402_premium\"> ', '').replace('</div>', '').replace('<p>', '\\n')\n",
    "            lyrics = lyrics.replace('</p>', '')\n",
    "            lyrics = lyrics.replace('<article> ', '').replace('</article> ', '').replace('<br>', '\\n').replace('<br/>', ' ')\n",
    "            #print lyrics\n",
    "\n",
    "            #and finaly we save it\n",
    "            f = open(\"/home/felipetanios/Documents/NLP/lyrics/\"+name+\".txt\", \"w+\")\n",
    "            f.write(lyrics)\n",
    "            f.close()\n",
    "            print (name + \"'s lyrics saved in /lyrics/\" + name +\".txt file\\n\")"
   ]
  }
 ],
 "metadata": {
  "kernelspec": {
   "display_name": "Python 3",
   "language": "python",
   "name": "python3"
  },
  "language_info": {
   "codemirror_mode": {
    "name": "ipython",
    "version": 3
   },
   "file_extension": ".py",
   "mimetype": "text/x-python",
   "name": "python",
   "nbconvert_exporter": "python",
   "pygments_lexer": "ipython3",
   "version": "3.5.2"
  }
 },
 "nbformat": 4,
 "nbformat_minor": 1
}
